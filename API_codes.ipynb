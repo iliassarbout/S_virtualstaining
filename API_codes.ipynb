{
 "cells": [
  {
   "cell_type": "code",
   "execution_count": 1,
   "id": "843a9ae5-b96e-47ec-96f3-51799002fc08",
   "metadata": {
    "tags": []
   },
   "outputs": [],
   "source": [
    "from cytomine import Cytomine\n",
    "from cytomine.models import Software, SoftwareCollection\n",
    "from cytomine import CytomineJob\n",
    "from cytomine.cytomine import CytomineAuth\n",
    "from requests_toolbelt import MultipartEncoder\n"
   ]
  },
  {
   "cell_type": "code",
   "execution_count": 5,
   "id": "b92c71cb-93c4-43f3-8cdd-2117536dc2e0",
   "metadata": {},
   "outputs": [],
   "source": [
    "host = \"http://localhost-core\"\n",
    "public_key = \"29a4bc15-74af-4512-89ce-1be341e381aa\"\n",
    "private_key = \"cb106984-47cd-4fed-85f0-7031739c713e\"\n",
    "upload_host = 'http://localhost-upload'\n",
    "project_id = 1364\n",
    "id_project = project_id\n",
    "\n",
    "id_software = 665\n",
    "image_id = 2648\n",
    "\n",
    "id_project_str = str(id_project)\n",
    "image_id_str = str(image_id)\n",
    "id_software_str = str(id_software)\n",
    "argv = ['--cytomine_host', host, '--cytomine_public_key', public_key, '--cytomine_private_key', private_key, '--cytomine_id_project', str(project_id), '--cytomine_id_software', str(id_software), '--image_id', str(image_id)]\n"
   ]
  },
  {
   "cell_type": "code",
   "execution_count": 6,
   "id": "60cbad18-7c8e-4baf-b76e-adcadd970a47",
   "metadata": {},
   "outputs": [
    {
     "name": "stdout",
     "output_type": "stream",
     "text": [
      "[2023-09-01 15:11:53,332][INFO] [GET] /server/ping | 200 OK\n",
      "[2023-09-01 15:11:53,349][INFO] [GET] [currentuser] CURRENT USER - 61 : admin | 200 OK\n",
      "[2023-09-01 15:11:53,361][INFO] [GET] [project] 1364 : Virtual Staining | 200 OK\n",
      "[2023-09-01 15:11:53,375][INFO] [GET] [software] 665 : CellDetect_Stardist_HE_ROI | 200 OK\n",
      "[2023-09-01 15:11:53,386][INFO] [GET] [software_parameter collection] 12 objects | 200 OK\n"
     ]
    },
    {
     "name": "stderr",
     "output_type": "stream",
     "text": [
      "usage: ipykernel_launcher.py [-h] --cytomine_host CYTOMINE_HOST\n",
      "                             --cytomine_public_key CYTOMINE_PUBLIC_KEY\n",
      "                             --cytomine_private_key CYTOMINE_PRIVATE_KEY\n",
      "                             --cytomine_id_project CYTOMINE_ID_PROJECT\n",
      "                             --cytomine_id_software CYTOMINE_ID_SOFTWARE\n",
      "                             --cytomine_id_images CYTOMINE_ID_IMAGES\n",
      "                             --cytomine_id_roi_term CYTOMINE_ID_ROI_TERM\n",
      "                             --cytomine_id_cell_term CYTOMINE_ID_CELL_TERM\n",
      "                             [--stardist_prob_t STARDIST_PROB_T]\n",
      "                             [--stardist_nms_t STARDIST_NMS_T]\n",
      "                             [--stardist_norm_perc_low STARDIST_NORM_PERC_LOW]\n",
      "                             [--stardist_norm_perc_high STARDIST_NORM_PERC_HIGH]\n",
      "ipykernel_launcher.py: error: the following arguments are required: --cytomine_id_images, --cytomine_id_roi_term, --cytomine_id_cell_term\n"
     ]
    },
    {
     "ename": "SystemExit",
     "evalue": "2",
     "output_type": "error",
     "traceback": [
      "An exception has occurred, use %tb to see the full traceback.\n",
      "\u001b[0;31mSystemExit\u001b[0m\u001b[0;31m:\u001b[0m 2\n"
     ]
    },
    {
     "name": "stderr",
     "output_type": "stream",
     "text": [
      "/home/ilias/.pyenv/versions/3.8.0/envs/vs/lib/python3.8/site-packages/IPython/core/interactiveshell.py:3516: UserWarning: To exit: use 'exit', 'quit', or Ctrl-D.\n",
      "  warn(\"To exit: use 'exit', 'quit', or Ctrl-D.\", stacklevel=1)\n"
     ]
    }
   ],
   "source": [
    "    with CytomineJob.from_cli(argv) as cj:\n",
    "                cj.job.update(status=Job.RUNNING, progress=0, statusComment=\"Image loading...\")\n",
    "                host = cj._parameters.cytomine_host\n",
    "                public_key = cj._parameters.cytomine_public_key\n",
    "                private_key = cj._parameters.cytomine_private_key\n",
    "                image_id = cj._parameters.image_id\n",
    "                project_id = cj.parameters.cytomine_id_project\n",
    "\n",
    "\n",
    "                image = ImageInstance().fetch(image_id)\n",
    "                image_name = image.originalFilename.split('.')[0] #image needs format NAME.extension\n",
    "\n",
    "                list_of_current_images = [i.instanceFilename for i in ImageInstanceCollection().fetch_with_filter(\"project\", project_id)._data]\n",
    "                if image_name+'_WSI_fake_0.tif' in list_of_current_images:#to modify, need to check every stain\n",
    "                    cj.job.update(status=Job.RUNNING, progress=100, statusComment=\"Image stains were already computed, check images within the project !\")\n",
    "                    \n",
    "                image_dl = image.download(dest_pattern=os.path.join(os.getcwd(),'IMAGE.ndpi'),override=False)\n",
    "                if not image_dl:\n",
    "                    print('Error fetching the image. Did you provide a valide image ID ? ')\n",
    "                # Will print the parameters with their values\n",
    "                destination_folder_name = str(image_id)\n",
    "                extraction(he_slide_path=os.path.join(os.getcwd(),'IMAGE.ndpi'),real_wsi_id = destination_folder_name,gpu_ids = [],path_app='/app',cj=cj,original_image_name=image_name) #path app is absolute path in singularity image of the app files\n",
    "\n",
    "\n",
    "                image_directory = './sample_staining/slides/'+destination_folder_name+'/'\n",
    "                image_filenames = os.listdir(image_directory)\n",
    "\n",
    "                image_paths = [image_directory + i for i in image_filenames]\n",
    "                uploader = Cytomine(host, public_key, private_key)\n",
    "\n",
    "                print(image_paths)\n",
    "                for filename in image_paths:\n",
    "                    upload(filename,host,public_key,private_key,upload_host,project_id)"
   ]
  },
  {
   "cell_type": "code",
   "execution_count": 89,
   "id": "572b7cd3-5a23-4028-b61a-f0c3beda8177",
   "metadata": {},
   "outputs": [
    {
     "name": "stdout",
     "output_type": "stream",
     "text": [
      "Starting\n",
      "['--cytomine_host', 'http://localhost-core', '--cytomine_public_key', 'e82fe3ca-3a93-4b75-b72c-e2c17c181f58', '--cytomine_private_key', '3a84e13e-c31b-4b93-85c7-12ca3b4dadaa', '--cytomine_id_project', '1365', '--cytomine_id_software', '1746', '--image_id', '1401']\n",
      "['--cytomine_host', 'http://localhost-core', '--cytomine_public_key', 'e82fe3ca-3a93-4b75-b72c-e2c17c181f58', '--cytomine_private_key', '3a84e13e-c31b-4b93-85c7-12ca3b4dadaa', '--cytomine_id_project', '1365', '--cytomine_id_software', '1746', '--image_id', '1401']\n",
      "/home/ilias/Downloads/VS\n",
      "[2023-06-11 23:55:04,966][INFO] [GET] /server/ping | 200 OK\n",
      "[2023-06-11 23:55:04,974][INFO] [GET] [currentuser] CURRENT USER - 61 : admin | 200 OK\n",
      "[2023-06-11 23:55:04,984][INFO] [GET] [project] 1365 : crohn | 200 OK\n",
      "[2023-06-11 23:55:04,994][INFO] [GET] [software] 1746 : virtualstaining | 200 OK\n",
      "[2023-06-11 23:55:05,002][INFO] [GET] [software_parameter collection] 6 objects | 200 OK\n",
      "[2023-06-11 23:55:05,041][INFO] [POST] [job] 9030 : virtualstaining (v0.09) : 14 | 200 OK\n",
      "[2023-06-11 23:55:05,049][INFO] [GET] [user] 9036 : JOB[admin ], 2023-06-11 21:55:05:31 | 200 OK\n",
      "[2023-06-11 23:55:05,058][INFO] [GET] [currentuser] CURRENT USER - 9036 : JOB[admin ], 2023-06-11 21:55:05:31 | 200 OK\n",
      "[2023-06-11 23:55:05,059][INFO] Job (id:9030) status update: \"None\" (status: RUNNING, progress: 0%)\n",
      "[2023-06-11 23:55:05,084][INFO] [PUT] [job] 9030 : virtualstaining (v0.09) : 14 | 200 OK\n",
      "[2023-06-11 23:55:05,102][INFO] [POST] [jobparameter] 9043 : image_id | 200 OK\n",
      "[2023-06-11 23:55:05,103][INFO] Job (id:9030) status update: \"Image loading...\" (status: RUNNING, progress: 0%)\n",
      "[2023-06-11 23:55:05,126][INFO] [PUT] [job] 9030 : virtualstaining (v0.09) : 14 | 200 OK\n",
      "[2023-06-11 23:55:05,137][INFO] [GET] [imageinstance] 1401 : IMAGE.ndpi | 200 OK\n",
      "[2023-06-11 23:55:05,166][INFO] [GET] [imageinstance collection] 10 objects | 200 OK\n",
      "[2023-06-11 23:55:05,167][INFO] Job (id:9030) status update: \"Image stains were already computed, check images within the project !\" (status: RUNNING, progress: 100%)\n",
      "[2023-06-11 23:55:05,185][INFO] [PUT] [job] 9030 : virtualstaining (v0.09) : 14 | 200 OK\n",
      "[2023-06-11 23:55:05,186][INFO] Job (id:9030) status update: \"Job successfully terminated\" (status: SUCCESS/TERMINATED, progress: 100%)\n",
      "[2023-06-11 23:55:05,204][INFO] [PUT] [job] 9030 : virtualstaining (v0.09) : 14 | 200 OK\n"
     ]
    }
   ],
   "source": [
    "!python app.py --cytomine_host \"http://localhost-core\" --cytomine_public_key \"e82fe3ca-3a93-4b75-b72c-e2c17c181f58\" --cytomine_private_key \"3a84e13e-c31b-4b93-85c7-12ca3b4dadaa\" --cytomine_id_project 1365 --cytomine_id_software 1746 --image_id 1401"
   ]
  },
  {
   "cell_type": "code",
   "execution_count": 73,
   "id": "2cf5fc64-7ad4-47c0-ac4a-706a2dc5183d",
   "metadata": {},
   "outputs": [
    {
     "name": "stdout",
     "output_type": "stream",
     "text": [
      "[2023-06-11 23:48:54,779][INFO] [GET] /server/ping | 200 OK\n",
      "[2023-06-11 23:48:54,800][INFO] [GET] [currentuser] CURRENT USER - 61 : admin | 200 OK\n"
     ]
    }
   ],
   "source": [
    "from cytomine.models import ImageInstance\n",
    "from cytomine.models import Annotation, AnnotationTerm, AnnotationCollection, ImageInstanceCollection, Job, User\n",
    "with Cytomine(host, public_key, private_key) as c:\n",
    "    c = ImageInstanceCollection()"
   ]
  },
  {
   "cell_type": "code",
   "execution_count": 43,
   "id": "b83e97c7-fd71-4ffc-9205-8321f7cc6be1",
   "metadata": {},
   "outputs": [
    {
     "data": {
      "text/plain": [
       "'IMAGE.ndpi'"
      ]
     },
     "execution_count": 43,
     "metadata": {},
     "output_type": "execute_result"
    }
   ],
   "source": [
    "image.originalFilename"
   ]
  },
  {
   "cell_type": "code",
   "execution_count": 81,
   "id": "d2ea55d7-a0dd-41f6-8c88-92db4beaf407",
   "metadata": {},
   "outputs": [
    {
     "name": "stdout",
     "output_type": "stream",
     "text": [
      "[2023-06-11 23:50:00,663][INFO] [GET] /server/ping | 200 OK\n",
      "[2023-06-11 23:50:00,677][INFO] [GET] [currentuser] CURRENT USER - 61 : admin | 200 OK\n",
      "[2023-06-11 23:50:00,740][INFO] [GET] [imageinstance collection] 12 objects | 200 OK\n"
     ]
    }
   ],
   "source": [
    "with Cytomine(host, public_key, private_key) as c:\n",
    "    list = [i.instanceFilename for i in ImageInstanceCollection().fetch_with_filter(\"project\", id_project)._data]"
   ]
  },
  {
   "cell_type": "code",
   "execution_count": 84,
   "id": "99107de3-c6e8-4481-a5d4-1df19585514f",
   "metadata": {},
   "outputs": [
    {
     "name": "stdout",
     "output_type": "stream",
     "text": [
      "[2023-06-11 23:52:32,672][INFO] [GET] [imageinstance] 1401 : IMAGE.ndpi | 200 OK\n"
     ]
    }
   ],
   "source": [
    "image = ImageInstance().fetch(image_id)\n",
    "image_name = image.originalFilename.split('.')[0] #image needs format NAME.extension"
   ]
  },
  {
   "cell_type": "code",
   "execution_count": 86,
   "id": "c7340e1a-519a-4136-b637-55cc384d9f0b",
   "metadata": {},
   "outputs": [
    {
     "data": {
      "text/plain": [
       "True"
      ]
     },
     "execution_count": 86,
     "metadata": {},
     "output_type": "execute_result"
    }
   ],
   "source": [
    "image_name+'_WSI_fake_0.tif' in list"
   ]
  },
  {
   "cell_type": "code",
   "execution_count": 59,
   "id": "792691b7-4a22-4fa8-8c1c-409cbcd68c94",
   "metadata": {},
   "outputs": [
    {
     "data": {
      "text/plain": [
       "'IMAGE_fake_0.tif'"
      ]
     },
     "execution_count": 59,
     "metadata": {},
     "output_type": "execute_result"
    }
   ],
   "source": [
    "image.originalFilename.split('.')[0]+'_fake_0.tif'"
   ]
  },
  {
   "cell_type": "code",
   "execution_count": 61,
   "id": "99f5b137-8b7c-4f1d-9ee8-258585d58d05",
   "metadata": {},
   "outputs": [
    {
     "data": {
      "text/plain": [
       "'tif_fake_0.tif'"
      ]
     },
     "execution_count": 61,
     "metadata": {},
     "output_type": "execute_result"
    }
   ],
   "source": [
    "'oooo.ppp.tif'.split('.')[-1]+'_fake_0.tif'"
   ]
  },
  {
   "cell_type": "code",
   "execution_count": 66,
   "id": "0aa3905c-141a-48cf-b2de-a0cfb7177750",
   "metadata": {},
   "outputs": [
    {
     "data": {
      "text/plain": [
       "'ooooppp'"
      ]
     },
     "execution_count": 66,
     "metadata": {},
     "output_type": "execute_result"
    }
   ],
   "source": [
    "\"\".join('oooo.ppp.tif'.split('.')[:-1])"
   ]
  },
  {
   "cell_type": "code",
   "execution_count": 69,
   "id": "68d22a23-d07a-4f7b-a96e-818b74b80e2d",
   "metadata": {},
   "outputs": [
    {
     "data": {
      "text/plain": [
       "['', '', '', '', '', '', '', '', '', '', '', '']"
      ]
     },
     "execution_count": 69,
     "metadata": {},
     "output_type": "execute_result"
    }
   ],
   "source": [
    "import re\n",
    "re.split('.','ooo.ozo.oao')"
   ]
  },
  {
   "cell_type": "code",
   "execution_count": 2,
   "id": "97ef985f-44a7-4e19-8381-1966b9f1bb62",
   "metadata": {},
   "outputs": [
    {
     "name": "stdout",
     "output_type": "stream",
     "text": [
      "[2023-06-05 15:32:20,260][INFO] [GET] /server/ping | 200 OK\n",
      "[2023-06-05 15:32:20,276][INFO] [GET] [currentuser] CURRENT USER - 61 : admin | 200 OK\n",
      "{'name': 'virtualstaining', 'description': 'This Cytomine App is a first test.', 'command-line': 'python app.py --cytomine_host [CYTOMINE_HOST] --cytomine_public_key [CYTOMINE_PUBLIC_KEY] --cytomine_private_key [CYTOMINE_PRIVATE_KEY] --cytomine_id_project [CYTOMINE_ID_PROJECT] --cytomine_id_software [CYTOMINE_ID_SOFTWARE] --image_id [IMAGE_ID]', 'container-image': {'type': 'singularity', 'image': 'wilspear/s_virtualstaining'}, 'inputs': [{'id': 'image_id', 'name': 'image_id', 'description': 'This is the id of image we want to process', 'type': 'Number', 'optional': False, 'default-value': 142507, 'value-key': '[@ID]', 'command-line-flag': '--@id'}, {'id': 'cytomine_host', 'name': 'Cytomine host', 'set-by-server': True, 'optional': False, 'type': 'String', 'value-key': '[@ID]', 'command-line-flag': '--@id'}, {'id': 'cytomine_public_key', 'name': 'Cytomine public key', 'set-by-server': True, 'optional': False, 'type': 'String', 'value-key': '[@ID]', 'command-line-flag': '--@id'}, {'id': 'cytomine_private_key', 'name': 'Cytomine private key', 'set-by-server': True, 'optional': False, 'type': 'String', 'value-key': '[@ID]', 'command-line-flag': '--@id'}, {'id': 'cytomine_id_project', 'name': 'Cytomine project ID', 'set-by-server': True, 'optional': False, 'type': 'Number', 'value-key': '[@ID]', 'command-line-flag': '--@id'}, {'id': 'cytomine_id_software', 'name': 'Cytomine software ID', 'set-by-server': True, 'optional': False, 'type': 'Number', 'value-key': '[@ID]', 'command-line-flag': '--@id'}], 'schema-version': 'cytomine-0.1'}\n",
      "[2023-06-05 15:32:20,290][INFO] [GET] [software collection] 0 objects | 200 OK\n",
      "[2023-06-05 15:32:20,422][INFO] [POST] [software] 229 : virtualstaining | 200 OK\n",
      "[2023-06-05 15:32:20,448][INFO] [GET] [software_parameter collection] 0 objects | 200 OK\n",
      "[2023-06-05 15:32:20,476][INFO] [POST] [software_parameter] 236 : image_id | 200 OK\n",
      "[2023-06-05 15:32:20,497][INFO] [POST] [software_parameter] 242 : cytomine_host | 200 OK\n",
      "[2023-06-05 15:32:20,519][INFO] [POST] [software_parameter] 248 : cytomine_public_key | 200 OK\n",
      "[2023-06-05 15:32:20,541][INFO] [POST] [software_parameter] 254 : cytomine_private_key | 200 OK\n",
      "[2023-06-05 15:32:20,564][INFO] [POST] [software_parameter] 260 : cytomine_id_project | 200 OK\n",
      "[2023-06-05 15:32:20,588][INFO] [POST] [software_parameter] 266 : cytomine_id_software | 200 OK\n"
     ]
    }
   ],
   "source": [
    "from cytomine.utilities.descriptor_reader import read_descriptor\n",
    "with Cytomine(host, public_key, private_key) as c:\n",
    "\tr = read_descriptor(\"descriptor.json\")"
   ]
  },
  {
   "cell_type": "code",
   "execution_count": 115,
   "id": "70a71205-7cb7-431d-a26c-6f54604a1e56",
   "metadata": {
    "tags": []
   },
   "outputs": [
    {
     "name": "stdout",
     "output_type": "stream",
     "text": [
      "{'name': 'virtualstaining', 'description': 'This Cytomine App is a first test.', 'command-line': 'python app.py --cytomine_host [CYTOMINE_HOST] --cytomine_public_key [CYTOMINE_PUBLIC_KEY] --cytomine_private_key [CYTOMINE_PRIVATE_KEY] --cytomine_id_project [CYTOMINE_ID_PROJECT] --cytomine_id_software [CYTOMINE_ID_SOFTWARE] --image_id [IMAGE_ID]', 'container-image': {'type': 'singularity', 'image': 'wilspear/s_virtualstaining'}, 'inputs': [{'id': 'image_id', 'name': 'image_id', 'description': 'This is image we want to process', 'optional': False, 'default-value': 1401, 'value-key': '[@ID]', 'command-line-flag': '--@id', 'type': 'Domain', 'uri': '/api/project/$currentProject$/imageinstance.json', 'uri-print-attribute': 'instanceFilename', 'uri-sort-attribute': 'instanceFilename'}, {'id': 'cytomine_host', 'name': 'Cytomine host', 'set-by-server': True, 'optional': False, 'type': 'String', 'value-key': '[@ID]', 'command-line-flag': '--@id'}, {'id': 'cytomine_public_key', 'name': 'Cytomine public key', 'set-by-server': True, 'optional': False, 'type': 'String', 'value-key': '[@ID]', 'command-line-flag': '--@id'}, {'id': 'cytomine_private_key', 'name': 'Cytomine private key', 'set-by-server': True, 'optional': False, 'type': 'String', 'value-key': '[@ID]', 'command-line-flag': '--@id'}, {'id': 'cytomine_id_project', 'name': 'Cytomine project ID', 'set-by-server': True, 'optional': False, 'type': 'Number', 'value-key': '[@ID]', 'command-line-flag': '--@id'}, {'id': 'cytomine_id_software', 'name': 'Cytomine software ID', 'set-by-server': True, 'optional': False, 'type': 'Number', 'value-key': '[@ID]', 'command-line-flag': '--@id'}], 'schema-version': 'cytomine-0.1'}\n"
     ]
    }
   ],
   "source": [
    "from cytomine.models import Software, SoftwareCollection\n",
    "from cytomine.utilities.descriptor_reader import read_descriptor\n",
    "\n",
    "\n",
    "with Cytomine(host, public_key, private_key) as c:\n",
    "\tread_descriptor(\"descriptor.json\")"
   ]
  },
  {
   "cell_type": "code",
   "execution_count": 118,
   "id": "2e8a1a55-bed4-4b97-b7d3-b4174ecfb884",
   "metadata": {
    "tags": []
   },
   "outputs": [
    {
     "name": "stdout",
     "output_type": "stream",
     "text": [
      "[]\n",
      "Not Fetched algorithms.\n"
     ]
    }
   ],
   "source": [
    "import cytomine\n",
    "def delete(software_name):    \n",
    "    software_collection = SoftwareCollection().fetch()\n",
    "    import numpy as np\n",
    "    result = np.where(np.array([i.name for i in software_collection.data()])==software_name)[0]\n",
    "    print(result)\n",
    "    if len(result)>=1:\n",
    "        software = software_collection.data()[result[0]]\n",
    "        software.delete()\n",
    "    else:\n",
    "        print('Not Fetched algorithms.')\n",
    "\n",
    "software_name = \"virtualstaining\"\n",
    "\n",
    "with Cytomine(host, public_key, private_key) as c:\n",
    "    c.open_admin_session()\n",
    "    delete(software_name)"
   ]
  },
  {
   "cell_type": "code",
   "execution_count": 95,
   "id": "fe19b800-ba70-4d4b-9c52-5f39667d1ad5",
   "metadata": {
    "tags": []
   },
   "outputs": [
    {
     "name": "stdout",
     "output_type": "stream",
     "text": [
      "[2023-06-12 01:11:20,425][INFO] [GET] [software collection] 8 objects | 200 OK\n"
     ]
    }
   ],
   "source": [
    "def fetch(software_name):\n",
    "    software_collection = SoftwareCollection().fetch()\n",
    "    import numpy as np\n",
    "    result = np.where(np.array([i.name for i in software_collection.data()])==software_name)[0]\n",
    "    if len(result)==1:\n",
    "        software = software_collection.data()[result[0]]\n",
    "        return(software)\n",
    "    else:\n",
    "        print('Not Fetched or multiple algorithms with same name')\n",
    "        return(0)\n",
    "\n",
    "software_name = \"virtualstaining\"\n",
    "\n",
    "s = fetch(software_name)\n"
   ]
  },
  {
   "cell_type": "code",
   "execution_count": 96,
   "id": "f48ddf91-c3d1-4d7e-bc5c-d54cbd6425ca",
   "metadata": {
    "tags": []
   },
   "outputs": [
    {
     "data": {
      "text/plain": [
       "'{\"id\": 1746, \"created\": \"1686315283275\", \"name\": \"virtualstaining\", \"resultName\": \"\", \"softwareUserRepository\": 1638, \"defaultProcessingServer\": 101, \"executeCommand\": \"singularity run s_virtualstaining-v0.09.simg python app.py [CYTOMINE_HOST] [CYTOMINE_PUBLIC_KEY] [CYTOMINE_PRIVATE_KEY] [CYTOMINE_ID_PROJECT] [CYTOMINE_ID_SOFTWARE] [IMAGE_ID]\", \"pullingCommand\": \"singularity pull --name s_virtualstaining-v0.09.simg docker://wilspear/s_virtualstaining:v0.09\", \"deprecated\": false, \"softwareVersion\": \"v0.09\", \"executable\": true, \"parameters\": [{\"class\": \"be.cytomine.processing.SoftwareParameter\", \"id\": 1758, \"created\": \"1686315284195\", \"updated\": null, \"deleted\": null, \"name\": \"image_id\", \"type\": \"Number\", \"defaultParamValue\": \"142507\", \"required\": true, \"software\": 1746, \"index\": 100, \"uri\": null, \"uriPrintAttribut\": null, \"uriSortAttribut\": null, \"setByServer\": false, \"serverParameter\": false, \"humanName\": \"image_id\", \"valueKey\": \"[IMAGE_ID]\", \"commandLineFlag\": \"--image_id\"}], \"numberOfJob\": 15, \"numberOfNotLaunch\": 0, \"numberOfInQueue\": 0, \"numberOfRunning\": 1, \"numberOfSuccess\": 8, \"numberOfFailed\": 6, \"numberOfIndeterminate\": 0, \"numberOfWait\": 0, \"class_\": \"be.cytomine.processing.Software\", \"fullName\": \"virtualstaining (v0.09)\", \"numberOfKilled\": 0}'"
      ]
     },
     "execution_count": 96,
     "metadata": {},
     "output_type": "execute_result"
    }
   ],
   "source": [
    "s.to_json()\n",
    "\n"
   ]
  },
  {
   "cell_type": "code",
   "execution_count": 8,
   "id": "3057a6f2-2aa3-4888-b443-ae259692cc5f",
   "metadata": {
    "tags": []
   },
   "outputs": [
    {
     "data": {
      "text/plain": [
       "'{\"id\": 229, \"created\": \"1685971940307\", \"name\": \"virtualstaining\", \"deprecated\": false, \"executable\": false, \"parameters\": [{\"class\": \"be.cytomine.processing.SoftwareParameter\", \"id\": 236, \"created\": \"1685971940465\", \"updated\": null, \"deleted\": null, \"name\": \"image_id\", \"type\": \"Number\", \"defaultParamValue\": \"142507\", \"required\": true, \"software\": 229, \"index\": 0, \"uri\": null, \"uriPrintAttribut\": null, \"uriSortAttribut\": null, \"setByServer\": false, \"serverParameter\": false, \"humanName\": \"image_id\", \"valueKey\": \"[IMAGE_ID]\", \"commandLineFlag\": \"--image_id\"}], \"numberOfJob\": 0, \"numberOfNotLaunch\": 0, \"numberOfInQueue\": 0, \"numberOfRunning\": 0, \"numberOfSuccess\": 0, \"numberOfFailed\": 0, \"numberOfIndeterminate\": 0, \"numberOfWait\": 0, \"class_\": \"be.cytomine.processing.Software\", \"fullName\": \"virtualstaining\", \"numberOfKilled\": 0}'"
      ]
     },
     "execution_count": 8,
     "metadata": {},
     "output_type": "execute_result"
    }
   ],
   "source": [
    "s.to_json()\n"
   ]
  },
  {
   "cell_type": "code",
   "execution_count": 117,
   "id": "26845c05-6d6d-4408-8caf-1c79babda51b",
   "metadata": {
    "tags": []
   },
   "outputs": [
    {
     "data": {
      "text/plain": [
       "'{\"id\": 608408, \"created\": \"1685901254048\", \"updated\": \"1685901260277\", \"name\": \"S_MALMO_Segmentation\", \"deprecated\": false, \"softwareVersion\": \"v1.2.0\", \"executable\": false, \"parameters\": [], \"numberOfJob\": 0, \"numberOfNotLaunch\": 0, \"numberOfInQueue\": 0, \"numberOfRunning\": 0, \"numberOfSuccess\": 0, \"numberOfFailed\": 0, \"numberOfIndeterminate\": 0, \"numberOfWait\": 0, \"class_\": \"be.cytomine.processing.Software\", \"sourcePath\": \"608408/S_MALMO_Segmentation.zip\", \"fullName\": \"S_MALMO_Segmentation (v1.2.0)\", \"numberOfKilled\": 0}'"
      ]
     },
     "execution_count": 117,
     "metadata": {},
     "output_type": "execute_result"
    }
   ],
   "source": [
    "software_collection.data()[0].to_json()"
   ]
  },
  {
   "cell_type": "code",
   "execution_count": 10,
   "id": "37bdc15c-3431-476b-a473-b32291a6cf35",
   "metadata": {},
   "outputs": [
    {
     "data": {
      "text/plain": [
       "1365"
      ]
     },
     "execution_count": 10,
     "metadata": {},
     "output_type": "execute_result"
    }
   ],
   "source": [
    "id_project"
   ]
  },
  {
   "cell_type": "code",
   "execution_count": 12,
   "id": "7c48d408-2933-4ae4-85b5-ce55bbadc872",
   "metadata": {
    "tags": []
   },
   "outputs": [
    {
     "name": "stdout",
     "output_type": "stream",
     "text": [
      "Starting\n",
      "['--cytomine_host', 'host', '--cytomine_public_key', 'public_key', '--cytomine_private_key', 'private_key', '--cytomine_id_project', '1365', '--cytomine_id_software', 'id_software', '--image_id', 'image_id']\n",
      "['--cytomine_host', 'host', '--cytomine_public_key', 'public_key', '--cytomine_private_key', 'private_key', '--cytomine_id_project', '1365', '--cytomine_id_software', 'id_software', '--image_id', 'image_id']\n",
      "/home/ilias/Downloads/VS\n",
      "usage: app.py [-h] --host HOST --public_key PUBLIC_KEY --private_key\n",
      "              PRIVATE_KEY [--verbose VERBOSE]\n",
      "              [-l {DEBUG,INFO,WARNING,ERROR,CRITICAL}] --software_id\n",
      "              SOFTWARE_ID --project_id PROJECT_ID\n",
      "app.py: error: argument --software_id/--id_software/--cytomine_software_id/--cytomine_id_software/--idSoftware: invalid int value: 'id_software'\n"
     ]
    }
   ],
   "source": []
  },
  {
   "cell_type": "code",
   "execution_count": 15,
   "id": "79064508-ae5d-40f4-8297-b0395ad38215",
   "metadata": {
    "tags": []
   },
   "outputs": [
    {
     "name": "stdout",
     "output_type": "stream",
     "text": [
      "[2023-06-04 20:05:04,647][INFO] [GET] /server/ping | 200 \n",
      "[2023-06-04 20:05:04,701][INFO] [GET] [currentuser] CURRENT USER - 566317 : ilias.sarbout | 200 \n",
      "[2023-06-04 20:05:04,758][INFO] [GET] [project] 137597 : Crohn-AI-Project | 200 \n",
      "[2023-06-04 20:05:04,823][INFO] [GET] [software] 608232 : virtualstaining | 200 \n",
      "[2023-06-04 20:05:04,876][INFO] [GET] [software_parameter collection] 6 objects | 200 \n"
     ]
    },
    {
     "data": {
      "text/plain": [
       "142507"
      ]
     },
     "execution_count": 15,
     "metadata": {},
     "output_type": "execute_result"
    }
   ],
   "source": [
    "from cytomine import CytomineJob\n",
    "\n",
    "\n",
    "args = ['--cytomine_host', 'https://cytomine-staging.icm-institute.org', '--cytomine_public_key', '41f0fdd9-5ce2-4e33-ae62-06b22395318c', '--cytomine_private_key', 'bc21ca11-1e11-4547-95fa-f0f480e1cf25', '--cytomine_id_project', '137597', '--cytomine_id_software', '608232', '--image_id', '142507']\n",
    "cj = CytomineJob.from_cli(args)\n",
    "\n",
    "host = cj._parameters.cytomine_host\n",
    "public_key = cj._parameters.cytomine_public_key\n",
    "private_key = cj._parameters.cytomine_private_key\n",
    "image_id = cj._parameters.image_id\n",
    "image_id"
   ]
  },
  {
   "cell_type": "code",
   "execution_count": 1,
   "id": "57716427-8496-4e5e-ab50-54869a4c7837",
   "metadata": {},
   "outputs": [],
   "source": [
    "\n",
    "from __future__ import absolute_import\n",
    "from __future__ import division\n",
    "from __future__ import print_function\n",
    "from __future__ import unicode_literals\n",
    "\n",
    "import logging\n",
    "import sys\n",
    "from argparse import ArgumentParser\n",
    "\n",
    "import os\n",
    "\n",
    "from cytomine import Cytomine\n",
    "from cytomine.models import StorageCollection, Project\n"
   ]
  },
  {
   "cell_type": "code",
   "execution_count": 54,
   "id": "2cba5f47-fab2-4933-91e2-2931dce1ab2f",
   "metadata": {},
   "outputs": [
    {
     "data": {
      "text/plain": [
       "'http://localhost-core'"
      ]
     },
     "execution_count": 54,
     "metadata": {},
     "output_type": "execute_result"
    }
   ],
   "source": [
    "upload_host"
   ]
  },
  {
   "cell_type": "code",
   "execution_count": 91,
   "id": "2d002f2b-0465-41b8-bffd-703ac0cf67df",
   "metadata": {},
   "outputs": [
    {
     "name": "stdout",
     "output_type": "stream",
     "text": [
      "[2023-06-12 00:52:18,257][INFO] [GET] /server/ping | 200 OK\n",
      "[2023-06-12 00:52:18,271][INFO] [GET] [currentuser] CURRENT USER - 61 : admin | 200 OK\n",
      "[2023-06-12 00:52:18,289][INFO] [GET] [project] 1365 : crohn | 200 OK\n",
      "[2023-06-12 00:52:18,308][INFO] [GET] [storage collection] 1 objects | 200 OK\n",
      "80\n"
     ]
    }
   ],
   "source": [
    "# RETURNS ERROR BUT WORK\n",
    "upload_host='http://localhost-upload'\n",
    "filename = 'sample_staining/slides/1401/WSI_fake_0.tif'\n",
    "filename = 'test.tiff'\n",
    "\n",
    "import os\n",
    "\n",
    "def upload(filename,host,public_key,private_key,upload_host,id_project):\n",
    "    with Cytomine(host=host, public_key=public_key, private_key=private_key) as cytomine:\n",
    "        \n",
    "                # Check that the file exists on your file system\n",
    "                if not os.path.exists(filename):\n",
    "                    raise ValueError(\"The file you want to upload does not exist\")\n",
    "        \n",
    "                # Check that the given project exists\n",
    "                if id_project:\n",
    "                    project = Project().fetch(id_project)\n",
    "                    if not project:\n",
    "                        raise ValueError(\"Project not found\")\n",
    "        \n",
    "                # To upload the image, we need to know the ID of your Cytomine storage.\n",
    "                storages = StorageCollection().fetch()\n",
    "                my_storage = next(filter(lambda storage: storage.user == cytomine.current_user.id, storages))\n",
    "                \n",
    "                print(my_storage.id)\n",
    "                if not my_storage:\n",
    "                    raise ValueError(\"Storage not found\")\n",
    "                try:\n",
    "                    uploaded_file = cytomine.upload_image(upload_host=upload_host,\n",
    "                                                              filename=filename,\n",
    "                                                              id_storage=my_storage.id,\n",
    "                                                              id_project=id_project)\n",
    "                    print(uploaded_file)\n",
    "                except:\n",
    "                    pass\n",
    "                \n",
    "upload(filename,host,public_key,private_key,upload_host,id_project)"
   ]
  },
  {
   "cell_type": "code",
   "execution_count": 33,
   "id": "48bc951c-db16-48c6-b62c-9a54e3206d46",
   "metadata": {},
   "outputs": [],
   "source": [
    "import pyvips\n",
    "filename = 'sample_staining/slides/1401/WSI_fake_0.tif'\n",
    "\n",
    "image = pyvips.Image.new_from_file(filename, access='sequential')\n",
    "image.write_to_file('test.tiff', compression='jpeg',pyramid=True, tile=True,  bigtiff=True, subifd=False, Q=100,\n",
    "                    tile_height=256, tile_width=256)"
   ]
  },
  {
   "cell_type": "code",
   "execution_count": 11,
   "id": "8d5f1612-01ab-4b6b-8e58-b6fdfef7cffb",
   "metadata": {},
   "outputs": [
    {
     "data": {
      "text/plain": [
       "'sample_staining/slides/1401/WSI_fake_0.tif'"
      ]
     },
     "execution_count": 11,
     "metadata": {},
     "output_type": "execute_result"
    }
   ],
   "source": [
    "filename"
   ]
  },
  {
   "cell_type": "code",
   "execution_count": 41,
   "id": "2d6c83ab-fa0c-464d-8098-48172edf3fb7",
   "metadata": {
    "tags": []
   },
   "outputs": [],
   "source": [
    "upload_host = 'http://localhost-upload'"
   ]
  },
  {
   "cell_type": "code",
   "execution_count": 32,
   "id": "7036668b-e91d-4f6b-9e75-ebdf1005cd7c",
   "metadata": {
    "tags": []
   },
   "outputs": [],
   "source": [
    "for chunk in response.iter_content(1024):\n",
    "    a=1"
   ]
  },
  {
   "cell_type": "code",
   "execution_count": 33,
   "id": "05718485-cc3b-487a-a306-6e3a2ade1763",
   "metadata": {
    "tags": []
   },
   "outputs": [
    {
     "data": {
      "text/plain": [
       "b'<html>\\r\\n<head><title>405 Not Allowed</title></head>\\r\\n<body>\\r\\n<center><h1>405 Not Allowed</h1></center>\\r\\n<hr><center>nginx/1.19.10</center>\\r\\n</body>\\r\\n</html>\\r\\n'"
      ]
     },
     "execution_count": 33,
     "metadata": {},
     "output_type": "execute_result"
    }
   ],
   "source": [
    "chunk"
   ]
  },
  {
   "cell_type": "code",
   "execution_count": 21,
   "id": "e7ed720c-0e1b-494d-8b07-a31d53d86cdf",
   "metadata": {
    "tags": []
   },
   "outputs": [
    {
     "name": "stdout",
     "output_type": "stream",
     "text": [
      "[2023-06-11 16:37:34,930][INFO] [GET] /server/ping | 200 OK\n",
      "[2023-06-11 16:37:34,959][INFO] [GET] [currentuser] CURRENT USER - 61 : admin | 200 OK\n",
      "[2023-06-11 16:37:35,054][INFO] [GET] [storage collection] 1 objects | 200 OK\n"
     ]
    }
   ],
   "source": [
    "from cytomine.models import StorageCollection, Project, UploadedFile\n",
    "\n",
    "uploader = Cytomine(host, public_key, private_key)\n",
    "\n",
    "storages = StorageCollection().fetch()\n",
    "my_storage = next(filter(lambda storage: storage.user == uploader.current_user.id, storages))\n",
    "id_storage = my_storage.id"
   ]
  },
  {
   "cell_type": "code",
   "execution_count": 30,
   "id": "e9efa049-1025-4928-8075-152f93717f4c",
   "metadata": {
    "tags": []
   },
   "outputs": [],
   "source": [
    "my_storage.id\n",
    "project_id = 137597"
   ]
  },
  {
   "cell_type": "code",
   "execution_count": 32,
   "id": "cc973f00-1d7b-47e9-b28c-7c79cc76290f",
   "metadata": {
    "tags": []
   },
   "outputs": [
    {
     "name": "stdout",
     "output_type": "stream",
     "text": [
      "[2023-06-04 20:26:06,038][ERROR] Error during image upload.\n"
     ]
    }
   ],
   "source": [
    "uploaded_file = uploader.upload_image(upload_host=host,\n",
    "                                                              filename=filename,\n",
    "                                                              id_storage=my_storage.id,\n",
    "                                                              id_project=project_id)\n"
   ]
  },
  {
   "cell_type": "code",
   "execution_count": 23,
   "id": "c69bf20f-c4d7-455a-90f5-1195c9e3760e",
   "metadata": {
    "tags": []
   },
   "outputs": [
    {
     "name": "stdout",
     "output_type": "stream",
     "text": [
      "[2023-06-04 20:23:11,930][INFO] [GET] /server/ping | 200 \n",
      "[2023-06-04 20:23:11,981][INFO] [GET] [currentuser] CURRENT USER - 566317 : ilias.sarbout | 200 \n",
      "['./sample_staining/slides/142507/WSI_fake_3.tif', './sample_staining/slides/142507/WSI_fake_4.tif', './sample_staining/slides/142507/WSI_fake_5.tif', './sample_staining/slides/142507/WSI_fake_6.tif', './sample_staining/slides/142507/WSI_fake_0.tif', './sample_staining/slides/142507/WSI_real_8.tif', './sample_staining/slides/142507/WSI_fake_7.tif', './sample_staining/slides/142507/WSI_fake_2.tif', './sample_staining/slides/142507/WSI_fake_1.tif']\n"
     ]
    }
   ],
   "source": [
    "import os\n",
    "image_directory = './sample_staining/slides/142507/'\n",
    "image_filenames = os.listdir(image_directory)\n",
    "\n",
    "image_paths = [image_directory + i for i in image_filenames]\n",
    "uploader = Cytomine(host, public_key, private_key)\n",
    "\n",
    "print(image_paths)\n",
    "filename = image_paths[0]"
   ]
  },
  {
   "cell_type": "code",
   "execution_count": 21,
   "id": "e53a98d6-5aec-457d-a3a7-d208e1729cd7",
   "metadata": {
    "tags": []
   },
   "outputs": [
    {
     "data": {
      "text/plain": [
       "['./sample_staining/slides/142507/WSI_fake_3.tif',\n",
       " './sample_staining/slides/142507/WSI_fake_4.tif',\n",
       " './sample_staining/slides/142507/WSI_fake_5.tif',\n",
       " './sample_staining/slides/142507/WSI_fake_6.tif',\n",
       " './sample_staining/slides/142507/WSI_fake_0.tif',\n",
       " './sample_staining/slides/142507/WSI_real_8.tif',\n",
       " './sample_staining/slides/142507/WSI_fake_7.tif',\n",
       " './sample_staining/slides/142507/WSI_fake_2.tif',\n",
       " './sample_staining/slides/142507/WSI_fake_1.tif']"
      ]
     },
     "execution_count": 21,
     "metadata": {},
     "output_type": "execute_result"
    }
   ],
   "source": [
    "image_paths"
   ]
  },
  {
   "cell_type": "code",
   "execution_count": 66,
   "id": "5caca399-3cdc-4eef-a0b8-ef187b5a22d8",
   "metadata": {
    "tags": []
   },
   "outputs": [
    {
     "name": "stdout",
     "output_type": "stream",
     "text": [
      "[2023-06-08 18:40:28,260][INFO] [GET] /server/ping | 200 OK\n",
      "[2023-06-08 18:40:28,285][INFO] [GET] [currentuser] CURRENT USER - 61 : admin | 200 OK\n",
      "[2023-06-08 18:40:28,302][INFO] [GET] [project] 1358 : crohn | 200 OK\n",
      "[2023-06-08 18:40:28,328][INFO] [GET] [software] 1481 : virtualstaining | 200 OK\n",
      "[2023-06-08 18:40:28,343][INFO] [GET] [software_parameter collection] 6 objects | 200 OK\n",
      "[2023-06-08 18:40:28,392][INFO] [POST] [job] 1952 : virtualstaining (v0.09) : 10 | 200 OK\n",
      "[2023-06-08 18:40:28,408][INFO] [GET] [user] 1958 : JOB[admin ], 2023-06-08 16:40:28:378 | 200 OK\n",
      "[2023-06-08 18:40:28,422][INFO] [GET] [currentuser] CURRENT USER - 1958 : JOB[admin ], 2023-06-08 16:40:28:378 | 200 OK\n",
      "[2023-06-08 18:40:28,423][INFO] Job (id:1952) status update: \"None\" (status: RUNNING, progress: 0%)\n",
      "[2023-06-08 18:40:28,449][INFO] [PUT] [job] 1952 : virtualstaining (v0.09) : 10 | 200 OK\n",
      "[2023-06-08 18:40:28,480][INFO] [POST] [jobparameter] 1965 : image_id | 200 OK\n",
      "[2023-06-08 18:40:28,495][INFO] [GET] [imageinstance] 1396 : IMAGE.ndpi | 200 OK\n",
      "[2023-06-08 18:40:28,737][INFO] File downloaded successfully from http://localhost-core/api/imageinstance/1396/download with parameters {}\n",
      "[2023-06-08 18:40:28,759][INFO] [GET] /server/ping | 200 OK\n",
      "[2023-06-08 18:40:28,770][INFO] [GET] [currentuser] CURRENT USER - 61 : admin | 200 OK\n",
      "['./sample_staining/slides/1396/download.jpeg']\n",
      "[2023-06-08 18:40:28,784][INFO] [GET] [project] 1358 : crohn | 200 OK\n",
      "[2023-06-08 18:40:28,795][INFO] [GET] [storage collection] 1 objects | 200 OK\n",
      "[2023-06-08 18:40:28,858][INFO] Job (id:1952) status update: \"'NoneType' object is not iterable\" (status: FAILED, progress: 0%)\n",
      "[2023-06-08 18:40:28,889][INFO] [PUT] [job] 1952 : virtualstaining (v0.09) : 10 | 200 OK\n"
     ]
    },
    {
     "ename": "TypeError",
     "evalue": "'NoneType' object is not iterable",
     "output_type": "error",
     "traceback": [
      "\u001b[0;31m---------------------------------------------------------------------------\u001b[0m",
      "\u001b[0;31mTypeError\u001b[0m                                 Traceback (most recent call last)",
      "Cell \u001b[0;32mIn[66], line 45\u001b[0m\n\u001b[1;32m     43\u001b[0m             \u001b[38;5;28;01mraise\u001b[39;00m \u001b[38;5;167;01mValueError\u001b[39;00m(\u001b[38;5;124m\"\u001b[39m\u001b[38;5;124mStorage not found\u001b[39m\u001b[38;5;124m\"\u001b[39m)\n\u001b[1;32m     44\u001b[0m id_storage \u001b[38;5;241m=\u001b[39m my_storage\u001b[38;5;241m.\u001b[39mid\n\u001b[0;32m---> 45\u001b[0m uploaded_file \u001b[38;5;241m=\u001b[39m \u001b[43muploader\u001b[49m\u001b[38;5;241;43m.\u001b[39;49m\u001b[43mupload_image\u001b[49m\u001b[43m(\u001b[49m\u001b[43mupload_host\u001b[49m\u001b[38;5;241;43m=\u001b[39;49m\u001b[38;5;124;43m'\u001b[39;49m\u001b[38;5;124;43mhttp://localhost-upload\u001b[39;49m\u001b[38;5;124;43m'\u001b[39;49m\u001b[43m,\u001b[49m\n\u001b[1;32m     46\u001b[0m \u001b[43m                                          \u001b[49m\u001b[43mfilename\u001b[49m\u001b[38;5;241;43m=\u001b[39;49m\u001b[43mfilename\u001b[49m\u001b[43m,\u001b[49m\n\u001b[1;32m     47\u001b[0m \u001b[43m                                          \u001b[49m\u001b[43mid_storage\u001b[49m\u001b[38;5;241;43m=\u001b[39;49m\u001b[43mid_storage\u001b[49m\u001b[43m,\u001b[49m\n\u001b[1;32m     48\u001b[0m \u001b[43m                                          \u001b[49m\u001b[43mid_project\u001b[49m\u001b[38;5;241;43m=\u001b[39;49m\u001b[43mproject_id\u001b[49m\u001b[43m)\u001b[49m\n",
      "File \u001b[0;32m~/.pyenv/versions/3.8.0/envs/vs/lib/python3.8/site-packages/cytomine/cytomine.py:692\u001b[0m, in \u001b[0;36mCytomine.upload_image\u001b[0;34m(self, upload_host, filename, id_storage, id_project, properties, sync, protocol)\u001b[0m\n\u001b[1;32m    683\u001b[0m response \u001b[38;5;241m=\u001b[39m \u001b[38;5;28mself\u001b[39m\u001b[38;5;241m.\u001b[39m_session\u001b[38;5;241m.\u001b[39mpost(\u001b[38;5;124m\"\u001b[39m\u001b[38;5;132;01m{}\u001b[39;00m\u001b[38;5;124m/upload\u001b[39m\u001b[38;5;124m\"\u001b[39m\u001b[38;5;241m.\u001b[39mformat(upload_host),\n\u001b[1;32m    684\u001b[0m                               auth\u001b[38;5;241m=\u001b[39mCytomineAuth(\n\u001b[1;32m    685\u001b[0m                                   \u001b[38;5;28mself\u001b[39m\u001b[38;5;241m.\u001b[39m_public_key, \u001b[38;5;28mself\u001b[39m\u001b[38;5;241m.\u001b[39m_private_key,\n\u001b[0;32m   (...)\u001b[0m\n\u001b[1;32m    688\u001b[0m                               params\u001b[38;5;241m=\u001b[39mquery_parameters,\n\u001b[1;32m    689\u001b[0m                               data\u001b[38;5;241m=\u001b[39mm)\n\u001b[1;32m    691\u001b[0m \u001b[38;5;28;01mif\u001b[39;00m response\u001b[38;5;241m.\u001b[39mstatus_code \u001b[38;5;241m==\u001b[39m requests\u001b[38;5;241m.\u001b[39mcodes\u001b[38;5;241m.\u001b[39mok:\n\u001b[0;32m--> 692\u001b[0m     uf \u001b[38;5;241m=\u001b[39m \u001b[38;5;28;43mself\u001b[39;49m\u001b[38;5;241;43m.\u001b[39;49m\u001b[43m_process_upload_response\u001b[49m\u001b[43m(\u001b[49m\u001b[43mresponse\u001b[49m\u001b[38;5;241;43m.\u001b[39;49m\u001b[43mjson\u001b[49m\u001b[43m(\u001b[49m\u001b[43m)\u001b[49m\u001b[43m[\u001b[49m\u001b[38;5;241;43m0\u001b[39;49m\u001b[43m]\u001b[49m\u001b[43m)\u001b[49m\n\u001b[1;32m    693\u001b[0m     \u001b[38;5;28mself\u001b[39m\u001b[38;5;241m.\u001b[39m_logger\u001b[38;5;241m.\u001b[39minfo(\u001b[38;5;124m\"\u001b[39m\u001b[38;5;124mImage uploaded successfully to \u001b[39m\u001b[38;5;132;01m{}\u001b[39;00m\u001b[38;5;124m\"\u001b[39m\u001b[38;5;241m.\u001b[39mformat(upload_host))\n\u001b[1;32m    694\u001b[0m     \u001b[38;5;28;01mreturn\u001b[39;00m uf\n",
      "File \u001b[0;32m~/.pyenv/versions/3.8.0/envs/vs/lib/python3.8/site-packages/cytomine/cytomine.py:774\u001b[0m, in \u001b[0;36mCytomine._process_upload_response\u001b[0;34m(self, response_data)\u001b[0m\n\u001b[1;32m    772\u001b[0m uf\u001b[38;5;241m.\u001b[39mimages \u001b[38;5;241m=\u001b[39m AbstractImageCollection()\n\u001b[1;32m    773\u001b[0m \u001b[38;5;28;01mif\u001b[39;00m \u001b[38;5;124m\"\u001b[39m\u001b[38;5;124mimages\u001b[39m\u001b[38;5;124m\"\u001b[39m \u001b[38;5;129;01min\u001b[39;00m response_data:\n\u001b[0;32m--> 774\u001b[0m     \u001b[38;5;28;01mfor\u001b[39;00m image \u001b[38;5;129;01min\u001b[39;00m response_data[\u001b[38;5;124m\"\u001b[39m\u001b[38;5;124mimages\u001b[39m\u001b[38;5;124m\"\u001b[39m]:\n\u001b[1;32m    775\u001b[0m         \u001b[38;5;28;01mif\u001b[39;00m \u001b[38;5;124m\"\u001b[39m\u001b[38;5;124mattr\u001b[39m\u001b[38;5;124m\"\u001b[39m \u001b[38;5;129;01min\u001b[39;00m image:\n\u001b[1;32m    776\u001b[0m             uf\u001b[38;5;241m.\u001b[39mimages\u001b[38;5;241m.\u001b[39mappend(AbstractImage()\u001b[38;5;241m.\u001b[39mpopulate(image[\u001b[38;5;124m\"\u001b[39m\u001b[38;5;124mattr\u001b[39m\u001b[38;5;124m\"\u001b[39m]))\n",
      "\u001b[0;31mTypeError\u001b[0m: 'NoneType' object is not iterable"
     ]
    }
   ],
   "source": [
    "from cytomine.models import ImageInstance\n",
    "from cytomine import CytomineJob\n",
    "from extraction_utils import extraction\n",
    "import os\n",
    "from cytomine import Cytomine\n",
    "from cytomine.models import StorageCollection, Project, UploadedFile\n",
    "image_id = '1396'\n",
    "\n",
    "with CytomineJob.from_cli(argv) as cj:\n",
    "            host = cj._parameters.cytomine_host\n",
    "            public_key = cj._parameters.cytomine_public_key\n",
    "            private_key = cj._parameters.cytomine_private_key\n",
    "            image_id = cj._parameters.image_id\n",
    "\n",
    "\n",
    "            image = ImageInstance().fetch(image_id)\n",
    "            image_dl = image.download(dest_pattern=\"IMAGE.ndpi\",override=True)\n",
    "            if not image_dl:\n",
    "                print('Error fetching the image. Did you provide a valide image ID ? ')\n",
    "            # Will print the parameters with their values\n",
    "            destination_folder_name = str(image_id)\n",
    "            #extraction(he_slide_path='IMAGE.ndpi',real_wsi_id = destination_folder_name,gpu_ids = []) #ici le gpu fonctionne bien\n",
    "            \n",
    "            \n",
    "            image_directory = './sample_staining/slides/'+destination_folder_name+'/'\n",
    "            image_filenames = os.listdir(image_directory)\n",
    "\n",
    "            image_paths = [image_directory + i for i in image_filenames]\n",
    "            uploader = Cytomine(host, public_key, private_key)\n",
    "\n",
    "            print(image_paths)\n",
    "    \n",
    "            for filename in image_paths:\n",
    "                # Create a new image instance for each image file\n",
    "\n",
    "                #id_storage = int(str(image_id) + str(k))\n",
    "\n",
    "                project = Project().fetch(project_id)\n",
    "\n",
    "                storages = StorageCollection().fetch()\n",
    "                my_storage = next(filter(lambda storage: storage.user == uploader.current_user.id, storages))\n",
    "                if not my_storage:\n",
    "                            raise ValueError(\"Storage not found\")\n",
    "                id_storage = my_storage.id\n",
    "                uploaded_file = uploader.upload_image(upload_host='http://localhost-upload',\n",
    "                                                          filename=filename,\n",
    "                                                          id_storage=id_storage,\n",
    "                                                          id_project=project_id)\n"
   ]
  },
  {
   "cell_type": "code",
   "execution_count": 13,
   "id": "8eb97f08-9b3f-4999-80c7-6f3c3ed8489f",
   "metadata": {},
   "outputs": [
    {
     "name": "stdout",
     "output_type": "stream",
     "text": [
      "^C\n",
      "Traceback (most recent call last):\n",
      "  File \"upload.py\", line 55, in <module>\n",
      "    with Cytomine(host=params.host, public_key=params.public_key, private_key=params.private_key) as cytomine:\n",
      "  File \"/home/ilias/.pyenv/versions/vs/lib/python3.8/site-packages/cytomine/cytomine.py\", line 217, in __init__\n",
      "    self._start()\n",
      "  File \"/home/ilias/.pyenv/versions/vs/lib/python3.8/site-packages/cytomine/cytomine.py\", line 353, in _start\n",
      "    self.wait_to_accept_connection()\n",
      "  File \"/home/ilias/.pyenv/versions/vs/lib/python3.8/site-packages/cytomine/cytomine.py\", line 605, in wait_to_accept_connection\n",
      "    time.sleep(delay_between_retry_in_seconds)\n",
      "KeyboardInterrupt\n"
     ]
    }
   ],
   "source": [
    "!python upload.py --cytomine_host host --cytomine_public_key public_key --cytomine_private_key private_key --cytomine_upload_host 'http://localhost-upload' --cytomine_id_project id_project --filepath image_paths[0] \n"
   ]
  },
  {
   "cell_type": "code",
   "execution_count": 3,
   "id": "e5310922-413e-459e-8211-a52667079c68",
   "metadata": {},
   "outputs": [],
   "source": [
    "from upload_utils import upload_img"
   ]
  },
  {
   "cell_type": "code",
   "execution_count": 12,
   "id": "485f6518-75e1-4064-8b5d-1de1c768e471",
   "metadata": {},
   "outputs": [
    {
     "name": "stdout",
     "output_type": "stream",
     "text": [
      "[2023-06-08 19:00:22,438][INFO] [GET] /server/ping | 200 OK\n",
      "[2023-06-08 19:00:22,463][INFO] [GET] [currentuser] CURRENT USER - 61 : admin | 200 OK\n",
      "[2023-06-08 19:00:22,507][INFO] [GET] [project] 1358 : crohn | 200 OK\n",
      "[2023-06-08 19:00:22,522][INFO] [GET] [storage collection] 1 objects | 200 OK\n"
     ]
    },
    {
     "ename": "TypeError",
     "evalue": "'NoneType' object is not iterable",
     "output_type": "error",
     "traceback": [
      "\u001b[0;31m---------------------------------------------------------------------------\u001b[0m",
      "\u001b[0;31mTypeError\u001b[0m                                 Traceback (most recent call last)",
      "Cell \u001b[0;32mIn[12], line 2\u001b[0m\n\u001b[1;32m      1\u001b[0m filename \u001b[38;5;241m=\u001b[39m \u001b[38;5;124m'\u001b[39m\u001b[38;5;124m./sample_staining/slides/1396/download.jpeg\u001b[39m\u001b[38;5;124m'\u001b[39m\n\u001b[0;32m----> 2\u001b[0m \u001b[43mupload_img\u001b[49m\u001b[43m(\u001b[49m\u001b[43mhost\u001b[49m\u001b[38;5;241;43m=\u001b[39;49m\u001b[43mhost\u001b[49m\u001b[43m,\u001b[49m\u001b[43mpublic_key\u001b[49m\u001b[38;5;241;43m=\u001b[39;49m\u001b[43mpublic_key\u001b[49m\u001b[43m,\u001b[49m\u001b[43mprivate_key\u001b[49m\u001b[38;5;241;43m=\u001b[39;49m\u001b[43mprivate_key\u001b[49m\u001b[43m,\u001b[49m\u001b[43mupload_host\u001b[49m\u001b[38;5;241;43m=\u001b[39;49m\u001b[43mupload_host\u001b[49m\u001b[43m,\u001b[49m\u001b[43mid_project\u001b[49m\u001b[38;5;241;43m=\u001b[39;49m\u001b[43mid_project\u001b[49m\u001b[43m,\u001b[49m\u001b[43mfilename\u001b[49m\u001b[38;5;241;43m=\u001b[39;49m\u001b[43mfilename\u001b[49m\u001b[43m)\u001b[49m\n",
      "File \u001b[0;32m~/Downloads/VS/upload_utils.py:26\u001b[0m, in \u001b[0;36mupload_img\u001b[0;34m(host, public_key, private_key, upload_host, id_project, filename)\u001b[0m\n\u001b[1;32m     23\u001b[0m \u001b[38;5;28;01mif\u001b[39;00m \u001b[38;5;129;01mnot\u001b[39;00m my_storage:\n\u001b[1;32m     24\u001b[0m     \u001b[38;5;28;01mraise\u001b[39;00m \u001b[38;5;167;01mValueError\u001b[39;00m(\u001b[38;5;124m\"\u001b[39m\u001b[38;5;124mStorage not found\u001b[39m\u001b[38;5;124m\"\u001b[39m)\n\u001b[0;32m---> 26\u001b[0m uploaded_file \u001b[38;5;241m=\u001b[39m \u001b[43mcytomine\u001b[49m\u001b[38;5;241;43m.\u001b[39;49m\u001b[43mupload_image\u001b[49m\u001b[43m(\u001b[49m\u001b[43mupload_host\u001b[49m\u001b[38;5;241;43m=\u001b[39;49m\u001b[43mupload_host\u001b[49m\u001b[43m,\u001b[49m\n\u001b[1;32m     27\u001b[0m \u001b[43m                                      \u001b[49m\u001b[43mfilename\u001b[49m\u001b[38;5;241;43m=\u001b[39;49m\u001b[43mfilename\u001b[49m\u001b[43m,\u001b[49m\n\u001b[1;32m     28\u001b[0m \u001b[43m                                      \u001b[49m\u001b[43mid_storage\u001b[49m\u001b[38;5;241;43m=\u001b[39;49m\u001b[43mmy_storage\u001b[49m\u001b[38;5;241;43m.\u001b[39;49m\u001b[43mid\u001b[49m\u001b[43m,\u001b[49m\n\u001b[1;32m     29\u001b[0m \u001b[43m                                      \u001b[49m\u001b[43mid_project\u001b[49m\u001b[38;5;241;43m=\u001b[39;49m\u001b[43mid_project\u001b[49m\u001b[43m)\u001b[49m\n\u001b[1;32m     31\u001b[0m \u001b[38;5;28mprint\u001b[39m(uploaded_file)\n",
      "File \u001b[0;32m~/.pyenv/versions/3.8.0/envs/vs/lib/python3.8/site-packages/cytomine/cytomine.py:692\u001b[0m, in \u001b[0;36mCytomine.upload_image\u001b[0;34m(self, upload_host, filename, id_storage, id_project, properties, sync, protocol)\u001b[0m\n\u001b[1;32m    683\u001b[0m response \u001b[38;5;241m=\u001b[39m \u001b[38;5;28mself\u001b[39m\u001b[38;5;241m.\u001b[39m_session\u001b[38;5;241m.\u001b[39mpost(\u001b[38;5;124m\"\u001b[39m\u001b[38;5;132;01m{}\u001b[39;00m\u001b[38;5;124m/upload\u001b[39m\u001b[38;5;124m\"\u001b[39m\u001b[38;5;241m.\u001b[39mformat(upload_host),\n\u001b[1;32m    684\u001b[0m                               auth\u001b[38;5;241m=\u001b[39mCytomineAuth(\n\u001b[1;32m    685\u001b[0m                                   \u001b[38;5;28mself\u001b[39m\u001b[38;5;241m.\u001b[39m_public_key, \u001b[38;5;28mself\u001b[39m\u001b[38;5;241m.\u001b[39m_private_key,\n\u001b[0;32m   (...)\u001b[0m\n\u001b[1;32m    688\u001b[0m                               params\u001b[38;5;241m=\u001b[39mquery_parameters,\n\u001b[1;32m    689\u001b[0m                               data\u001b[38;5;241m=\u001b[39mm)\n\u001b[1;32m    691\u001b[0m \u001b[38;5;28;01mif\u001b[39;00m response\u001b[38;5;241m.\u001b[39mstatus_code \u001b[38;5;241m==\u001b[39m requests\u001b[38;5;241m.\u001b[39mcodes\u001b[38;5;241m.\u001b[39mok:\n\u001b[0;32m--> 692\u001b[0m     uf \u001b[38;5;241m=\u001b[39m \u001b[38;5;28;43mself\u001b[39;49m\u001b[38;5;241;43m.\u001b[39;49m\u001b[43m_process_upload_response\u001b[49m\u001b[43m(\u001b[49m\u001b[43mresponse\u001b[49m\u001b[38;5;241;43m.\u001b[39;49m\u001b[43mjson\u001b[49m\u001b[43m(\u001b[49m\u001b[43m)\u001b[49m\u001b[43m[\u001b[49m\u001b[38;5;241;43m0\u001b[39;49m\u001b[43m]\u001b[49m\u001b[43m)\u001b[49m\n\u001b[1;32m    693\u001b[0m     \u001b[38;5;28mself\u001b[39m\u001b[38;5;241m.\u001b[39m_logger\u001b[38;5;241m.\u001b[39minfo(\u001b[38;5;124m\"\u001b[39m\u001b[38;5;124mImage uploaded successfully to \u001b[39m\u001b[38;5;132;01m{}\u001b[39;00m\u001b[38;5;124m\"\u001b[39m\u001b[38;5;241m.\u001b[39mformat(upload_host))\n\u001b[1;32m    694\u001b[0m     \u001b[38;5;28;01mreturn\u001b[39;00m uf\n",
      "File \u001b[0;32m~/.pyenv/versions/3.8.0/envs/vs/lib/python3.8/site-packages/cytomine/cytomine.py:774\u001b[0m, in \u001b[0;36mCytomine._process_upload_response\u001b[0;34m(self, response_data)\u001b[0m\n\u001b[1;32m    772\u001b[0m uf\u001b[38;5;241m.\u001b[39mimages \u001b[38;5;241m=\u001b[39m AbstractImageCollection()\n\u001b[1;32m    773\u001b[0m \u001b[38;5;28;01mif\u001b[39;00m \u001b[38;5;124m\"\u001b[39m\u001b[38;5;124mimages\u001b[39m\u001b[38;5;124m\"\u001b[39m \u001b[38;5;129;01min\u001b[39;00m response_data:\n\u001b[0;32m--> 774\u001b[0m     \u001b[38;5;28;01mfor\u001b[39;00m image \u001b[38;5;129;01min\u001b[39;00m response_data[\u001b[38;5;124m\"\u001b[39m\u001b[38;5;124mimages\u001b[39m\u001b[38;5;124m\"\u001b[39m]:\n\u001b[1;32m    775\u001b[0m         \u001b[38;5;28;01mif\u001b[39;00m \u001b[38;5;124m\"\u001b[39m\u001b[38;5;124mattr\u001b[39m\u001b[38;5;124m\"\u001b[39m \u001b[38;5;129;01min\u001b[39;00m image:\n\u001b[1;32m    776\u001b[0m             uf\u001b[38;5;241m.\u001b[39mimages\u001b[38;5;241m.\u001b[39mappend(AbstractImage()\u001b[38;5;241m.\u001b[39mpopulate(image[\u001b[38;5;124m\"\u001b[39m\u001b[38;5;124mattr\u001b[39m\u001b[38;5;124m\"\u001b[39m]))\n",
      "\u001b[0;31mTypeError\u001b[0m: 'NoneType' object is not iterable"
     ]
    }
   ],
   "source": [
    "filename = './sample_staining/slides/1396/download.jpeg'\n",
    "upload_img(host=host,public_key=public_key,private_key=private_key,upload_host=upload_host,id_project=id_project,filename=filename)"
   ]
  },
  {
   "cell_type": "code",
   "execution_count": 11,
   "id": "6e84de85-c0ce-4408-8314-b2377aee3b69",
   "metadata": {},
   "outputs": [],
   "source": []
  },
  {
   "cell_type": "code",
   "execution_count": 79,
   "id": "f700eac7-f425-48b4-aa04-fd542b9157ae",
   "metadata": {},
   "outputs": [],
   "source": [
    "upload_host = 'http://localhost-upload'"
   ]
  },
  {
   "cell_type": "code",
   "execution_count": 3,
   "id": "e8deb857-e7f2-4ae7-9871-a9d3faf1b87f",
   "metadata": {
    "tags": []
   },
   "outputs": [
    {
     "data": {
      "text/plain": [
       "[]"
      ]
     },
     "execution_count": 3,
     "metadata": {},
     "output_type": "execute_result"
    }
   ],
   "source": [
    "image_paths"
   ]
  },
  {
   "cell_type": "code",
   "execution_count": 71,
   "id": "b59d2d01-5df4-4c50-9f20-82bcf937cddc",
   "metadata": {
    "tags": []
   },
   "outputs": [],
   "source": [
    "from cytomine.models.software import Job\n",
    "\n",
    "job = Job(project_id = id_project, software_id = s.id)"
   ]
  },
  {
   "cell_type": "code",
   "execution_count": 78,
   "id": "665f4933-1127-4d09-9c90-4d04db0ca7b3",
   "metadata": {
    "tags": []
   },
   "outputs": [],
   "source": [
    "job.id = s.id"
   ]
  },
  {
   "cell_type": "code",
   "execution_count": 79,
   "id": "14749a32-b339-4298-b115-040bf887fcbe",
   "metadata": {
    "tags": []
   },
   "outputs": [
    {
     "name": "stdout",
     "output_type": "stream",
     "text": [
      "[2023-06-04 21:00:21,327][INFO] [POST] job/608232/execute.json | 500 \n"
     ]
    },
    {
     "data": {
      "text/plain": [
       "<cytomine.models.software.Job at 0x7f3720d55350>"
      ]
     },
     "execution_count": 79,
     "metadata": {},
     "output_type": "execute_result"
    }
   ],
   "source": [
    "job.execute()"
   ]
  },
  {
   "cell_type": "code",
   "execution_count": 85,
   "id": "b4472720-e0a5-446c-833c-2a94a98dfc0d",
   "metadata": {
    "tags": []
   },
   "outputs": [],
   "source": [
    "callback_identifier = job.__class__.__name__.lower()\n"
   ]
  },
  {
   "cell_type": "code",
   "execution_count": 101,
   "id": "ca59df97-76b1-42f6-8201-b55bd4839253",
   "metadata": {
    "tags": []
   },
   "outputs": [
    {
     "name": "stdout",
     "output_type": "stream",
     "text": [
      "[2023-06-04 21:10:02,390][INFO] [POST] job/608232/execute.json | 500 \n"
     ]
    }
   ],
   "source": [
    "response = cj.get_instance().post(\n",
    "    uri=\"{}/{}/execute.json\".format(callback_identifier, job.id),\n",
    "    data=job.to_json(), query_parameters={id: job.id}\n",
    ")"
   ]
  },
  {
   "cell_type": "code",
   "execution_count": 102,
   "id": "df4097d2-3753-4132-937e-865fa1e2041e",
   "metadata": {
    "tags": []
   },
   "outputs": [
    {
     "data": {
      "text/plain": [
       "False"
      ]
     },
     "execution_count": 102,
     "metadata": {},
     "output_type": "execute_result"
    }
   ],
   "source": [
    "response"
   ]
  },
  {
   "cell_type": "code",
   "execution_count": 96,
   "id": "5f674c1a-2a56-4932-8189-b624ad1a0198",
   "metadata": {
    "tags": []
   },
   "outputs": [
    {
     "name": "stdout",
     "output_type": "stream",
     "text": [
      "[2023-06-04 21:09:14,440][INFO] [GET] /server/ping | 200 \n",
      "[2023-06-04 21:09:14,491][INFO] [GET] [currentuser] CURRENT USER - 566317 : ilias.sarbout | 200 \n"
     ]
    }
   ],
   "source": [
    "cj = Cytomine(host, public_key, private_key)"
   ]
  },
  {
   "cell_type": "code",
   "execution_count": 98,
   "id": "e372c5ed-3cce-4393-9177-ddda7224630c",
   "metadata": {
    "tags": []
   },
   "outputs": [
    {
     "data": {
      "text/plain": [
       "<cytomine.cytomine.Cytomine at 0x7f3720d69450>"
      ]
     },
     "execution_count": 98,
     "metadata": {},
     "output_type": "execute_result"
    }
   ],
   "source": [
    "cj.get_instance()"
   ]
  }
 ],
 "metadata": {
  "kernelspec": {
   "display_name": "Python 3 (ipykernel)",
   "language": "python",
   "name": "python3"
  },
  "language_info": {
   "codemirror_mode": {
    "name": "ipython",
    "version": 3
   },
   "file_extension": ".py",
   "mimetype": "text/x-python",
   "name": "python",
   "nbconvert_exporter": "python",
   "pygments_lexer": "ipython3",
   "version": "3.8.0"
  }
 },
 "nbformat": 4,
 "nbformat_minor": 5
}
