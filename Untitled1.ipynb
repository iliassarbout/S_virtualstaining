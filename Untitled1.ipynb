{
 "cells": [
  {
   "cell_type": "code",
   "execution_count": 1,
   "id": "843a9ae5-b96e-47ec-96f3-51799002fc08",
   "metadata": {
    "tags": []
   },
   "outputs": [],
   "source": [
    "host = \"https://cytomine-staging.icm-institute.org\"\n",
    "public_key = \"41f0fdd9-5ce2-4e33-ae62-06b22395318c\"\n",
    "private_key = \"bc21ca11-1e11-4547-95fa-f0f480e1cf25\"\n",
    "project_id = 137597\n"
   ]
  },
  {
   "cell_type": "code",
   "execution_count": 5,
   "id": "97ef985f-44a7-4e19-8381-1966b9f1bb62",
   "metadata": {},
   "outputs": [
    {
     "name": "stdout",
     "output_type": "stream",
     "text": [
      "[2023-06-02 15:53:13,243][INFO] [GET] /server/ping | 200 \n",
      "[2023-06-02 15:53:13,296][INFO] [GET] [currentuser] CURRENT USER - 566317 : ilias.sarbout | 200 \n",
      "{'name': 'virtualstaining', 'description': 'This Cytomine App is a first test.', 'schema-version': 'cytomine-0.1', 'command-line': 'python app.py --cytomine_host [CYTOMINE_HOST] --cytomine_public_key [CYTOMINE_PUBLIC_KEY] --cytomine_private_key [CYTOMINE_PRIVATE_KEY] --cytomine_id_project [CYTOMINE_ID_PROJECT] --cytomine_id_software [CYTOMINE_ID_SOFTWARE] --image_id [IMAGE_ID]', 'container-image': {'type': 'singularity', 'image': 'cytomine/s_virtualstaining'}, 'inputs': [{'id': 'image_id', 'name': 'image_id', 'description': 'This is the id of image we want to process', 'type': 'Number', 'optional': False, 'default-value': 142507, 'value-key': '[@ID]', 'command-line-flag': '--@id'}, {'id': 'cytomine_host', 'name': 'Cytomine host', 'set-by-server': True, 'optional': False, 'type': 'String', 'value-key': '[@ID]', 'command-line-flag': '--@id'}, {'id': 'cytomine_public_key', 'name': 'Cytomine public key', 'set-by-server': True, 'optional': False, 'type': 'String', 'value-key': '[@ID]', 'command-line-flag': '--@id'}, {'id': 'cytomine_private_key', 'name': 'Cytomine private key', 'set-by-server': True, 'optional': False, 'type': 'String', 'value-key': '[@ID]', 'command-line-flag': '--@id'}, {'id': 'cytomine_id_project', 'name': 'Cytomine project ID', 'set-by-server': True, 'optional': False, 'type': 'Number', 'value-key': '[@ID]', 'command-line-flag': '--@id'}, {'id': 'cytomine_id_software', 'name': 'Cytomine software ID', 'set-by-server': True, 'optional': False, 'type': 'Number', 'value-key': '[@ID]', 'command-line-flag': '--@id'}]}\n",
      "[2023-06-02 15:53:13,361][INFO] [GET] [software collection] 4 objects | 200 \n",
      "[2023-06-02 15:53:13,457][INFO] [POST] [software] 577492 : virtualstaining | 200 \n",
      "[2023-06-02 15:53:13,518][INFO] [GET] [software_parameter collection] 0 objects | 200 \n",
      "[2023-06-02 15:53:13,575][INFO] [POST] [software_parameter] 577498 : image_id | 200 \n",
      "[2023-06-02 15:53:13,632][INFO] [POST] [software_parameter] 577504 : cytomine_host | 200 \n",
      "[2023-06-02 15:53:13,689][INFO] [POST] [software_parameter] 577510 : cytomine_public_key | 200 \n",
      "[2023-06-02 15:53:13,753][INFO] [POST] [software_parameter] 577516 : cytomine_private_key | 200 \n",
      "[2023-06-02 15:53:13,819][INFO] [POST] [software_parameter] 577522 : cytomine_id_project | 200 \n",
      "[2023-06-02 15:53:13,867][INFO] [POST] [software_parameter] 577528 : cytomine_id_software | 200 \n"
     ]
    }
   ],
   "source": [
    "from cytomine import Cytomine\n",
    "from cytomine.utilities.descriptor_reader import read_descriptor\n",
    "with Cytomine(host, public_key, private_key) as c:\n",
    "\tread_descriptor(\"descriptor.json\")"
   ]
  },
  {
   "cell_type": "code",
   "execution_count": 2,
   "id": "70a71205-7cb7-431d-a26c-6f54604a1e56",
   "metadata": {
    "tags": []
   },
   "outputs": [
    {
     "ename": "NameError",
     "evalue": "name 'Cytomine' is not defined",
     "output_type": "error",
     "traceback": [
      "\u001b[0;31m---------------------------------------------------------------------------\u001b[0m",
      "\u001b[0;31mNameError\u001b[0m                                 Traceback (most recent call last)",
      "\u001b[0;32m/tmp/ipykernel_12630/614343303.py\u001b[0m in \u001b[0;36m<module>\u001b[0;34m\u001b[0m\n\u001b[1;32m      3\u001b[0m \u001b[0;34m\u001b[0m\u001b[0m\n\u001b[1;32m      4\u001b[0m \u001b[0;34m\u001b[0m\u001b[0m\n\u001b[0;32m----> 5\u001b[0;31m \u001b[0;32mwith\u001b[0m \u001b[0mCytomine\u001b[0m\u001b[0;34m(\u001b[0m\u001b[0mhost\u001b[0m\u001b[0;34m,\u001b[0m \u001b[0mpublic_key\u001b[0m\u001b[0;34m,\u001b[0m \u001b[0mprivate_key\u001b[0m\u001b[0;34m)\u001b[0m \u001b[0;32mas\u001b[0m \u001b[0mc\u001b[0m\u001b[0;34m:\u001b[0m\u001b[0;34m\u001b[0m\u001b[0;34m\u001b[0m\u001b[0m\n\u001b[0m\u001b[1;32m      6\u001b[0m         \u001b[0mread_descriptor\u001b[0m\u001b[0;34m(\u001b[0m\u001b[0;34m\"descriptor.json\"\u001b[0m\u001b[0;34m)\u001b[0m\u001b[0;34m\u001b[0m\u001b[0;34m\u001b[0m\u001b[0m\n",
      "\u001b[0;31mNameError\u001b[0m: name 'Cytomine' is not defined"
     ]
    }
   ],
   "source": [
    "from cytomine.models import Software, SoftwareCollection\n",
    "from cytomine.utilities.descriptor_reader import read_descriptor\n",
    "\n",
    "\n",
    "with Cytomine(host, public_key, private_key) as c:\n",
    "\tread_descriptor(\"descriptor.json\")"
   ]
  },
  {
   "cell_type": "code",
   "execution_count": 4,
   "id": "2e8a1a55-bed4-4b97-b7d3-b4174ecfb884",
   "metadata": {
    "tags": []
   },
   "outputs": [
    {
     "name": "stdout",
     "output_type": "stream",
     "text": [
      "[2023-06-02 15:53:07,614][INFO] [GET] [software collection] 5 objects | 200 \n",
      "[2023-06-02 15:53:07,773][INFO] [DELETE] [software] 577273 : virtualstaining | 200 \n"
     ]
    }
   ],
   "source": [
    "from cytomine.models import Software, SoftwareCollection\n",
    "\n",
    "def delete(software_name):\n",
    "    software_collection = SoftwareCollection().fetch()\n",
    "    import numpy as np\n",
    "    result = np.where(np.array([i.name for i in software_collection.data()])==software_name)[0]\n",
    "    if len(result)==1:\n",
    "        software = software_collection.data()[result[0]]\n",
    "        software.delete()\n",
    "    else:\n",
    "        print('Not Fetched or multiple algorithms with same name')\n",
    "\n",
    "software_name = \"virtualstaining\"\n",
    "\n",
    "delete(software_name)"
   ]
  },
  {
   "cell_type": "code",
   "execution_count": 26,
   "id": "7c48d408-2933-4ae4-85b5-ce55bbadc872",
   "metadata": {
    "tags": []
   },
   "outputs": [
    {
     "name": "stdout",
     "output_type": "stream",
     "text": [
      "Starting\n",
      "['--cytomine_host', 'https://cytomine-staging.icm-institute.org', '--cytomine_public_key', '41f0fdd9-5ce2-4e33-ae62-06b22395318c', '--cytomine_private_key', 'bc21ca11-1e11-4547-95fa-f0f480e1cf25', '--cytomine_id_project', '137597', '--cytomine_id_software', '574661', '--image_id', '142507']\n",
      "[2023-06-02 00:53:09,740][INFO] [GET] /server/ping | 200 \n",
      "[2023-06-02 00:53:09,788][INFO] [GET] [currentuser] CURRENT USER - 566317 : ilias.sarbout | 200 \n",
      "[2023-06-02 00:53:09,859][INFO] [GET] [project] 137597 : Crohn-AI-Project | 200 \n",
      "[2023-06-02 00:53:09,909][INFO] [GET] [software] 574661 : VirtualStaining | 200 \n",
      "[2023-06-02 00:53:09,959][INFO] [GET] [software_parameter collection] 6 objects | 200 \n",
      "[2023-06-02 00:53:10,060][INFO] [POST] [job] 576345 : VirtualStaining : 19 | 200 \n",
      "[2023-06-02 00:53:10,113][INFO] [GET] [user] 576351 : JOB[ilias.sarbout ], 2023-06-01 22:53:10:20 | 200 \n",
      "[2023-06-02 00:53:10,156][INFO] [GET] [currentuser] CURRENT USER - 576351 : JOB[ilias.sarbout ], 2023-06-01 22:53:10:20 | 200 \n",
      "[2023-06-02 00:53:10,156][INFO] Job (id:576345) status update: \"None\" (status: RUNNING, progress: 0%)\n",
      "[2023-06-02 00:53:10,348][INFO] [PUT] [job] 576345 : VirtualStaining : 19 | 200 \n",
      "[2023-06-02 00:53:10,396][INFO] [POST] [jobparameter] 576359 : image_id | 200 \n",
      "[2023-06-02 00:53:10,441][INFO] [GET] [imageinstance] 142507 : pyramid_real_HE.tif | 200 \n",
      "[2023-06-02 00:53:12,757][INFO] File downloaded successfully from https://cytomine-staging.icm-institute.org/api/imageinstance/142507/download with parameters {}\n",
      "^C\n",
      "Traceback (most recent call last):\n",
      "  File \"<__array_function__ internals>\", line 2, in where\n",
      "KeyboardInterrupt\n",
      "Exception ignored in: 'sklearn.cluster._k_means_common._relocate_empty_clusters_dense'\n",
      "Traceback (most recent call last):\n",
      "  File \"<__array_function__ internals>\", line 2, in where\n",
      "KeyboardInterrupt\n"
     ]
    }
   ],
   "source": [
    "!python app.py --cytomine_host https://cytomine-staging.icm-institute.org --cytomine_public_key 41f0fdd9-5ce2-4e33-ae62-06b22395318c --cytomine_private_key bc21ca11-1e11-4547-95fa-f0f480e1cf25 --cytomine_id_project 137597 --cytomine_id_software 574661 --image_id 142507\n"
   ]
  },
  {
   "cell_type": "code",
   "execution_count": 8,
   "id": "5caca399-3cdc-4eef-a0b8-ef187b5a22d8",
   "metadata": {
    "tags": []
   },
   "outputs": [
    {
     "name": "stderr",
     "output_type": "stream",
     "text": [
      "/home/sarbout/.pyenv/versions/3.7.5/envs/vs/lib/python3.7/site-packages/tqdm/auto.py:21: TqdmWarning: IProgress not found. Please update jupyter and ipywidgets. See https://ipywidgets.readthedocs.io/en/stable/user_install.html\n",
      "  from .autonotebook import tqdm as notebook_tqdm\n"
     ]
    },
    {
     "name": "stdout",
     "output_type": "stream",
     "text": [
      "[2023-06-02 00:02:17,901][INFO] [GET] /server/ping | 200 \n",
      "[2023-06-02 00:02:17,943][INFO] [GET] [currentuser] CURRENT USER - 566317 : ilias.sarbout | 200 \n",
      "[2023-06-02 00:02:17,990][INFO] [GET] [project] 137597 : Crohn-AI-Project | 200 \n",
      "[2023-06-02 00:02:18,040][INFO] [GET] [software] 574661 : VirtualStaining | 200 \n",
      "[2023-06-02 00:02:18,082][INFO] [GET] [software_parameter collection] 6 objects | 200 \n",
      "[2023-06-02 00:02:18,163][INFO] [POST] [job] 576140 : VirtualStaining : 11 | 200 \n",
      "[2023-06-02 00:02:18,210][INFO] [GET] [user] 576146 : JOB[ilias.sarbout ], 2023-06-01 22:02:18:136 | 200 \n",
      "[2023-06-02 00:02:18,259][INFO] [GET] [currentuser] CURRENT USER - 576146 : JOB[ilias.sarbout ], 2023-06-01 22:02:18:136 | 200 \n",
      "[2023-06-02 00:02:18,262][INFO] Job (id:576140) status update: \"None\" (status: RUNNING, progress: 0%)\n",
      "[2023-06-02 00:02:18,318][INFO] [PUT] [job] 576140 : VirtualStaining : 11 | 200 \n",
      "[2023-06-02 00:02:18,370][INFO] [POST] [jobparameter] 576154 : image_id | 200 \n",
      "[2023-06-02 00:02:18,416][INFO] [GET] [imageinstance] 142507 : pyramid_real_HE.tif | 200 \n",
      "[2023-06-02 00:02:22,860][INFO] File downloaded successfully from https://cytomine-staging.icm-institute.org/api/imageinstance/142507/download with parameters {}\n",
      "---------- Networks initialized -------------\n",
      "ResnetGenEncoder(\n",
      "  (model): Sequential(\n",
      "    (0): ReflectionPad2d((3, 3, 3, 3))\n",
      "    (1): Conv2d(3, 64, kernel_size=(7, 7), stride=(1, 1))\n",
      "    (2): InstanceNorm2d(64, eps=1e-05, momentum=0.1, affine=False, track_running_stats=False)\n",
      "    (3): PReLU(num_parameters=1)\n",
      "    (4): Conv2d(64, 128, kernel_size=(3, 3), stride=(2, 2), padding=(1, 1))\n",
      "    (5): InstanceNorm2d(128, eps=1e-05, momentum=0.1, affine=False, track_running_stats=False)\n",
      "    (6): PReLU(num_parameters=1)\n",
      "    (7): Conv2d(128, 256, kernel_size=(3, 3), stride=(2, 2), padding=(1, 1))\n",
      "    (8): InstanceNorm2d(256, eps=1e-05, momentum=0.1, affine=False, track_running_stats=False)\n",
      "    (9): PReLU(num_parameters=1)\n",
      "    (10): ResnetBlock(\n",
      "      (conv_block): SequentialContext(\n",
      "        (0): ReflectionPad2d((1, 1, 1, 1))\n",
      "        (1): Conv2d(256, 256, kernel_size=(3, 3), stride=(1, 1))\n",
      "        (2): InstanceNorm2d(256, eps=1e-05, momentum=0.1, affine=False, track_running_stats=False)\n",
      "        (3): PReLU(num_parameters=1)\n",
      "        (4): ReflectionPad2d((1, 1, 1, 1))\n",
      "        (5): Conv2d(256, 256, kernel_size=(3, 3), stride=(1, 1))\n",
      "        (6): InstanceNorm2d(256, eps=1e-05, momentum=0.1, affine=False, track_running_stats=False)\n",
      "      )\n",
      "    )\n",
      "    (11): ResnetBlock(\n",
      "      (conv_block): SequentialContext(\n",
      "        (0): ReflectionPad2d((1, 1, 1, 1))\n",
      "        (1): Conv2d(256, 256, kernel_size=(3, 3), stride=(1, 1))\n",
      "        (2): InstanceNorm2d(256, eps=1e-05, momentum=0.1, affine=False, track_running_stats=False)\n",
      "        (3): PReLU(num_parameters=1)\n",
      "        (4): ReflectionPad2d((1, 1, 1, 1))\n",
      "        (5): Conv2d(256, 256, kernel_size=(3, 3), stride=(1, 1))\n",
      "        (6): InstanceNorm2d(256, eps=1e-05, momentum=0.1, affine=False, track_running_stats=False)\n",
      "      )\n",
      "    )\n",
      "    (12): ResnetBlock(\n",
      "      (conv_block): SequentialContext(\n",
      "        (0): ReflectionPad2d((1, 1, 1, 1))\n",
      "        (1): Conv2d(256, 256, kernel_size=(3, 3), stride=(1, 1))\n",
      "        (2): InstanceNorm2d(256, eps=1e-05, momentum=0.1, affine=False, track_running_stats=False)\n",
      "        (3): PReLU(num_parameters=1)\n",
      "        (4): ReflectionPad2d((1, 1, 1, 1))\n",
      "        (5): Conv2d(256, 256, kernel_size=(3, 3), stride=(1, 1))\n",
      "        (6): InstanceNorm2d(256, eps=1e-05, momentum=0.1, affine=False, track_running_stats=False)\n",
      "      )\n",
      "    )\n",
      "    (13): ResnetBlock(\n",
      "      (conv_block): SequentialContext(\n",
      "        (0): ReflectionPad2d((1, 1, 1, 1))\n",
      "        (1): Conv2d(256, 256, kernel_size=(3, 3), stride=(1, 1))\n",
      "        (2): InstanceNorm2d(256, eps=1e-05, momentum=0.1, affine=False, track_running_stats=False)\n",
      "        (3): PReLU(num_parameters=1)\n",
      "        (4): ReflectionPad2d((1, 1, 1, 1))\n",
      "        (5): Conv2d(256, 256, kernel_size=(3, 3), stride=(1, 1))\n",
      "        (6): InstanceNorm2d(256, eps=1e-05, momentum=0.1, affine=False, track_running_stats=False)\n",
      "      )\n",
      "    )\n",
      "  )\n",
      ")\n",
      "ResnetGenDecoder(\n",
      "  (model): Sequential(\n",
      "    (0): ResnetBlock(\n",
      "      (conv_block): SequentialContext(\n",
      "        (0): ReflectionPad2d((1, 1, 1, 1))\n",
      "        (1): Conv2d(256, 256, kernel_size=(3, 3), stride=(1, 1))\n",
      "        (2): InstanceNorm2d(256, eps=1e-05, momentum=0.1, affine=False, track_running_stats=False)\n",
      "        (3): PReLU(num_parameters=1)\n",
      "        (4): ReflectionPad2d((1, 1, 1, 1))\n",
      "        (5): Conv2d(256, 256, kernel_size=(3, 3), stride=(1, 1))\n",
      "        (6): InstanceNorm2d(256, eps=1e-05, momentum=0.1, affine=False, track_running_stats=False)\n",
      "      )\n",
      "    )\n",
      "    (1): ResnetBlock(\n",
      "      (conv_block): SequentialContext(\n",
      "        (0): ReflectionPad2d((1, 1, 1, 1))\n",
      "        (1): Conv2d(256, 256, kernel_size=(3, 3), stride=(1, 1))\n",
      "        (2): InstanceNorm2d(256, eps=1e-05, momentum=0.1, affine=False, track_running_stats=False)\n",
      "        (3): PReLU(num_parameters=1)\n",
      "        (4): ReflectionPad2d((1, 1, 1, 1))\n",
      "        (5): Conv2d(256, 256, kernel_size=(3, 3), stride=(1, 1))\n",
      "        (6): InstanceNorm2d(256, eps=1e-05, momentum=0.1, affine=False, track_running_stats=False)\n",
      "      )\n",
      "    )\n",
      "    (2): ResnetBlock(\n",
      "      (conv_block): SequentialContext(\n",
      "        (0): ReflectionPad2d((1, 1, 1, 1))\n",
      "        (1): Conv2d(256, 256, kernel_size=(3, 3), stride=(1, 1))\n",
      "        (2): InstanceNorm2d(256, eps=1e-05, momentum=0.1, affine=False, track_running_stats=False)\n",
      "        (3): PReLU(num_parameters=1)\n",
      "        (4): ReflectionPad2d((1, 1, 1, 1))\n",
      "        (5): Conv2d(256, 256, kernel_size=(3, 3), stride=(1, 1))\n",
      "        (6): InstanceNorm2d(256, eps=1e-05, momentum=0.1, affine=False, track_running_stats=False)\n",
      "      )\n",
      "    )\n",
      "    (3): ResnetBlock(\n",
      "      (conv_block): SequentialContext(\n",
      "        (0): ReflectionPad2d((1, 1, 1, 1))\n",
      "        (1): Conv2d(256, 256, kernel_size=(3, 3), stride=(1, 1))\n",
      "        (2): InstanceNorm2d(256, eps=1e-05, momentum=0.1, affine=False, track_running_stats=False)\n",
      "        (3): PReLU(num_parameters=1)\n",
      "        (4): ReflectionPad2d((1, 1, 1, 1))\n",
      "        (5): Conv2d(256, 256, kernel_size=(3, 3), stride=(1, 1))\n",
      "        (6): InstanceNorm2d(256, eps=1e-05, momentum=0.1, affine=False, track_running_stats=False)\n",
      "      )\n",
      "    )\n",
      "    (4): ResnetBlock(\n",
      "      (conv_block): SequentialContext(\n",
      "        (0): ReflectionPad2d((1, 1, 1, 1))\n",
      "        (1): Conv2d(256, 256, kernel_size=(3, 3), stride=(1, 1))\n",
      "        (2): InstanceNorm2d(256, eps=1e-05, momentum=0.1, affine=False, track_running_stats=False)\n",
      "        (3): PReLU(num_parameters=1)\n",
      "        (4): ReflectionPad2d((1, 1, 1, 1))\n",
      "        (5): Conv2d(256, 256, kernel_size=(3, 3), stride=(1, 1))\n",
      "        (6): InstanceNorm2d(256, eps=1e-05, momentum=0.1, affine=False, track_running_stats=False)\n",
      "      )\n",
      "    )\n",
      "    (5): ConvTranspose2d(256, 128, kernel_size=(4, 4), stride=(2, 2), padding=(1, 1))\n",
      "    (6): InstanceNorm2d(128, eps=1e-05, momentum=0.1, affine=False, track_running_stats=False)\n",
      "    (7): PReLU(num_parameters=1)\n",
      "    (8): ConvTranspose2d(128, 64, kernel_size=(4, 4), stride=(2, 2), padding=(1, 1))\n",
      "    (9): InstanceNorm2d(64, eps=1e-05, momentum=0.1, affine=False, track_running_stats=False)\n",
      "    (10): PReLU(num_parameters=1)\n",
      "    (11): ReflectionPad2d((3, 3, 3, 3))\n",
      "    (12): Conv2d(64, 3, kernel_size=(7, 7), stride=(1, 1))\n",
      "    (13): Tanh()\n",
      "  )\n",
      ")\n",
      "Created 9 Encoder-Decoder pairs\n",
      "Number of parameters per Encoder: 5099143\n",
      "Number of parameters per Deocder: 6565770\n",
      "-----------------------------------------------\n"
     ]
    },
    {
     "name": "stderr",
     "output_type": "stream",
     "text": [
      "/home/sarbout/.pyenv/versions/3.7.5/envs/vs/lib/python3.7/site-packages/torchvision/transforms/transforms.py:330: UserWarning: Argument 'interpolation' of type int is deprecated since 0.13 and will be removed in 0.15. Please use InterpolationMode enum.\n",
      "  \"Argument 'interpolation' of type int is deprecated since 0.13 and will be removed in 0.15. \"\n",
      "100%|█████████████████████████████████████████████| 9/9 [00:40<00:00,  4.46s/it]\n"
     ]
    },
    {
     "name": "stdout",
     "output_type": "stream",
     "text": [
      "Temp folders has been deleted.\n",
      "[2023-06-02 00:03:18,028][INFO] [GET] /server/ping | 200 \n",
      "[2023-06-02 00:03:18,083][INFO] [GET] [currentuser] CURRENT USER - 566317 : ilias.sarbout | 200 \n",
      "['./sample_staining/slides/142507/WSI_fake_3.tif', './sample_staining/slides/142507/WSI_fake_4.tif', './sample_staining/slides/142507/WSI_fake_5.tif', './sample_staining/slides/142507/WSI_fake_6.tif', './sample_staining/slides/142507/WSI_fake_0.tif', './sample_staining/slides/142507/WSI_real_8.tif', './sample_staining/slides/142507/WSI_fake_7.tif', './sample_staining/slides/142507/WSI_fake_2.tif', './sample_staining/slides/142507/WSI_fake_1.tif']\n",
      "[2023-06-02 00:03:18,141][INFO] [GET] [project] 137597 : Crohn-AI-Project | 200 \n",
      "[2023-06-02 00:03:18,191][INFO] [GET] [storage collection] 1 objects | 200 \n",
      "[2023-06-02 00:03:27,244][ERROR] Error during image upload.\n",
      "[2023-06-02 00:03:27,294][INFO] [GET] [project] 137597 : Crohn-AI-Project | 200 \n",
      "[2023-06-02 00:03:27,344][INFO] [GET] [storage collection] 1 objects | 200 \n",
      "[2023-06-02 00:03:36,050][ERROR] Error during image upload.\n",
      "[2023-06-02 00:03:36,234][INFO] [GET] [project] 137597 : Crohn-AI-Project | 200 \n",
      "[2023-06-02 00:03:36,289][INFO] [GET] [storage collection] 1 objects | 200 \n",
      "[2023-06-02 00:03:40,363][ERROR] Error during image upload.\n",
      "[2023-06-02 00:03:40,411][INFO] [GET] [project] 137597 : Crohn-AI-Project | 200 \n",
      "[2023-06-02 00:03:40,457][INFO] [GET] [storage collection] 1 objects | 200 \n",
      "[2023-06-02 00:03:45,958][ERROR] Error during image upload.\n",
      "[2023-06-02 00:03:46,008][INFO] [GET] [project] 137597 : Crohn-AI-Project | 200 \n",
      "[2023-06-02 00:03:46,053][INFO] [GET] [storage collection] 1 objects | 200 \n",
      "[2023-06-02 00:03:53,193][ERROR] Error during image upload.\n",
      "[2023-06-02 00:03:53,234][INFO] [GET] [project] 137597 : Crohn-AI-Project | 200 \n",
      "[2023-06-02 00:03:53,270][INFO] [GET] [storage collection] 1 objects | 200 \n",
      "[2023-06-02 00:03:58,933][ERROR] Error during image upload.\n",
      "[2023-06-02 00:03:58,970][INFO] [GET] [project] 137597 : Crohn-AI-Project | 200 \n",
      "[2023-06-02 00:03:59,004][INFO] [GET] [storage collection] 1 objects | 200 \n",
      "[2023-06-02 00:04:06,680][ERROR] Error during image upload.\n",
      "[2023-06-02 00:04:06,719][INFO] [GET] [project] 137597 : Crohn-AI-Project | 200 \n",
      "[2023-06-02 00:04:06,752][INFO] [GET] [storage collection] 1 objects | 200 \n",
      "[2023-06-02 00:04:15,059][ERROR] Error during image upload.\n",
      "[2023-06-02 00:04:15,248][INFO] [GET] [project] 137597 : Crohn-AI-Project | 200 \n",
      "[2023-06-02 00:04:15,297][INFO] [GET] [storage collection] 1 objects | 200 \n",
      "[2023-06-02 00:04:27,185][ERROR] Error during image upload.\n",
      "[2023-06-02 00:04:27,187][INFO] Job (id:576140) status update: \"Job successfully terminated\" (status: SUCCESS/TERMINATED, progress: 0%)\n",
      "[2023-06-02 00:04:27,253][INFO] [PUT] [job] 576140 : VirtualStaining : 11 | 200 \n"
     ]
    }
   ],
   "source": [
    "from cytomine.models import ImageInstance\n",
    "from cytomine import CytomineJob\n",
    "from extraction_utils import extraction\n",
    "import os\n",
    "from cytomine import Cytomine\n",
    "from cytomine.models import StorageCollection, Project, UploadedFile\n",
    "\n",
    "host = \"https://cytomine-staging.icm-institute.org\"\n",
    "public_key = \"41f0fdd9-5ce2-4e33-ae62-06b22395318c\"\n",
    "private_key = \"bc21ca11-1e11-4547-95fa-f0f480e1cf25\"\n",
    "\n",
    "\n",
    "project_id = 137597\n",
    "argv = ['--cytomine_host', 'https://cytomine-staging.icm-institute.org', '--cytomine_public_key', '41f0fdd9-5ce2-4e33-ae62-06b22395318c', '--cytomine_private_key', 'bc21ca11-1e11-4547-95fa-f0f480e1cf25', '--cytomine_id_project', '137597', '--cytomine_id_software', '574661', '--image_id', '142507']\n",
    "\n",
    "with CytomineJob.from_cli(argv) as cj:\n",
    "            host = cj._parameters.cytomine_host\n",
    "            public_key = cj._parameters.cytomine_public_key\n",
    "            private_key = cj._parameters.cytomine_private_key\n",
    "            image_id = cj._parameters.image_id\n",
    "\n",
    "\n",
    "            image = ImageInstance().fetch(image_id)\n",
    "            image_dl = image.download(dest_pattern=\"IMAGE.ndpi\",override=True)\n",
    "            if not image_dl:\n",
    "                print('Error fetching the image. Did you provide a valide image ID ? ')\n",
    "            # Will print the parameters with their values\n",
    "            destination_folder_name = str(image_id)\n",
    "            extraction(he_slide_path='IMAGE.ndpi',real_wsi_id = destination_folder_name,gpu_ids = [0]) #ici le gpu fonctionne bien\n",
    "            \n",
    "            \n",
    "            image_directory = './sample_staining/slides/'+destination_folder_name+'/'\n",
    "            image_filenames = os.listdir(image_directory)\n",
    "\n",
    "            image_paths = [image_directory + i for i in image_filenames]\n",
    "            uploader = Cytomine(host, public_key, private_key)\n",
    "\n",
    "            print(image_paths)\n",
    "            for filename in image_paths:\n",
    "                # Create a new image instance for each image file\n",
    "\n",
    "                #id_storage = int(str(image_id) + str(k))\n",
    "\n",
    "                project = Project().fetch(project_id)\n",
    "\n",
    "                storages = StorageCollection().fetch()\n",
    "                my_storage = next(filter(lambda storage: storage.user == uploader.current_user.id, storages))\n",
    "                if not my_storage:\n",
    "                            raise ValueError(\"Storage not found\")\n",
    "                id_storage = my_storage.id\n",
    "                uploaded_file = uploader.upload_image(upload_host=host,\n",
    "                                                          filename=filename,\n",
    "                                                          id_storage=id_storage,\n",
    "                                                          id_project=project_id)\n"
   ]
  },
  {
   "cell_type": "code",
   "execution_count": 30,
   "id": "e8deb857-e7f2-4ae7-9871-a9d3faf1b87f",
   "metadata": {
    "tags": []
   },
   "outputs": [
    {
     "ename": "AttributeError",
     "evalue": "'Namespace' object has no attribute 'project_id'",
     "output_type": "error",
     "traceback": [
      "\u001b[0;31m---------------------------------------------------------------------------\u001b[0m",
      "\u001b[0;31mAttributeError\u001b[0m                            Traceback (most recent call last)",
      "\u001b[0;32m/tmp/ipykernel_10888/350080209.py\u001b[0m in \u001b[0;36m<module>\u001b[0;34m\u001b[0m\n\u001b[0;32m----> 1\u001b[0;31m \u001b[0mcj\u001b[0m\u001b[0;34m.\u001b[0m\u001b[0m_parameters\u001b[0m\u001b[0;34m.\u001b[0m\u001b[0mproject_id\u001b[0m\u001b[0;34m\u001b[0m\u001b[0;34m\u001b[0m\u001b[0m\n\u001b[0m",
      "\u001b[0;31mAttributeError\u001b[0m: 'Namespace' object has no attribute 'project_id'"
     ]
    }
   ],
   "source": [
    "cj._parameters.project_id"
   ]
  },
  {
   "cell_type": "code",
   "execution_count": 29,
   "id": "b59d2d01-5df4-4c50-9f20-82bcf937cddc",
   "metadata": {
    "tags": []
   },
   "outputs": [
    {
     "name": "stdout",
     "output_type": "stream",
     "text": [
      "[2023-06-01 23:29:55,455][INFO] [GET] /server/ping | 200 \n",
      "[2023-06-01 23:29:55,506][INFO] [GET] [currentuser] CURRENT USER - 566317 : ilias.sarbout | 200 \n"
     ]
    }
   ],
   "source": []
  }
 ],
 "metadata": {
  "kernelspec": {
   "display_name": "Python 3 (ipykernel)",
   "language": "python",
   "name": "python3"
  },
  "language_info": {
   "codemirror_mode": {
    "name": "ipython",
    "version": 3
   },
   "file_extension": ".py",
   "mimetype": "text/x-python",
   "name": "python",
   "nbconvert_exporter": "python",
   "pygments_lexer": "ipython3",
   "version": "3.7.5"
  }
 },
 "nbformat": 4,
 "nbformat_minor": 5
}
